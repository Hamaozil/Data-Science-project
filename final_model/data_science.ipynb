{
 "cells": [
  {
   "cell_type": "markdown",
   "metadata": {},
   "source": [
    "# **<center>Housing Category Classificasion Model</center>**"
   ]
  },
  {
   "cell_type": "code",
   "execution_count": 223,
   "metadata": {},
   "outputs": [],
   "source": [
    "import numpy as np\n",
    "import pandas as pd"
   ]
  },
  {
   "cell_type": "markdown",
   "metadata": {},
   "source": [
    "***loading the dataset (Part 2)***"
   ]
  },
  {
   "cell_type": "code",
   "execution_count": 224,
   "metadata": {},
   "outputs": [],
   "source": [
    "data = pd.read_csv(r\"dubai_properties.csv\")"
   ]
  },
  {
   "cell_type": "code",
   "execution_count": 225,
   "metadata": {},
   "outputs": [
    {
     "name": "stdout",
     "output_type": "stream",
     "text": [
      "<class 'pandas.core.frame.DataFrame'>\n",
      "RangeIndex: 73742 entries, 0 to 73741\n",
      "Data columns (total 17 columns):\n",
      " #   Column                  Non-Null Count  Dtype  \n",
      "---  ------                  --------------  -----  \n",
      " 0   Address                 73742 non-null  object \n",
      " 1   Rent                    73742 non-null  int64  \n",
      " 2   Beds                    73742 non-null  int64  \n",
      " 3   Baths                   73742 non-null  int64  \n",
      " 4   Type                    73742 non-null  object \n",
      " 5   Area_in_sqft            73742 non-null  int64  \n",
      " 6   Rent_per_sqft           73742 non-null  float64\n",
      " 7   Rent_category           73742 non-null  object \n",
      " 8   Frequency               73742 non-null  object \n",
      " 9   Furnishing              73742 non-null  object \n",
      " 10  Purpose                 73742 non-null  object \n",
      " 11  Posted_date             73742 non-null  object \n",
      " 12  Age_of_listing_in_days  73742 non-null  int64  \n",
      " 13  Location                73742 non-null  object \n",
      " 14  City                    73742 non-null  object \n",
      " 15  Latitude                73023 non-null  float64\n",
      " 16  Longitude               73023 non-null  float64\n",
      "dtypes: float64(3), int64(5), object(9)\n",
      "memory usage: 9.6+ MB\n",
      "None\n"
     ]
    }
   ],
   "source": [
    "print(data.info())"
   ]
  },
  {
   "cell_type": "markdown",
   "metadata": {},
   "source": [
    "## ***Part 3 : Data Cleaning and Preprocessing***"
   ]
  },
  {
   "cell_type": "markdown",
   "metadata": {},
   "source": [
    "### ***Cleaning the null and duplicates***"
   ]
  },
  {
   "cell_type": "code",
   "execution_count": 226,
   "metadata": {},
   "outputs": [
    {
     "name": "stdout",
     "output_type": "stream",
     "text": [
      "Address                     0\n",
      "Rent                        0\n",
      "Beds                        0\n",
      "Baths                       0\n",
      "Type                        0\n",
      "Area_in_sqft                0\n",
      "Rent_per_sqft               0\n",
      "Rent_category               0\n",
      "Frequency                   0\n",
      "Furnishing                  0\n",
      "Purpose                     0\n",
      "Posted_date                 0\n",
      "Age_of_listing_in_days      0\n",
      "Location                    0\n",
      "City                        0\n",
      "Latitude                  719\n",
      "Longitude                 719\n",
      "dtype: int64\n"
     ]
    }
   ],
   "source": [
    "print(data.isna().sum())"
   ]
  },
  {
   "cell_type": "markdown",
   "metadata": {},
   "source": [
    "***Removing null values***"
   ]
  },
  {
   "cell_type": "code",
   "execution_count": 227,
   "metadata": {},
   "outputs": [
    {
     "name": "stdout",
     "output_type": "stream",
     "text": [
      "Address                   0\n",
      "Rent                      0\n",
      "Beds                      0\n",
      "Baths                     0\n",
      "Type                      0\n",
      "Area_in_sqft              0\n",
      "Rent_per_sqft             0\n",
      "Rent_category             0\n",
      "Frequency                 0\n",
      "Furnishing                0\n",
      "Purpose                   0\n",
      "Posted_date               0\n",
      "Age_of_listing_in_days    0\n",
      "Location                  0\n",
      "City                      0\n",
      "Latitude                  0\n",
      "Longitude                 0\n",
      "dtype: int64\n"
     ]
    }
   ],
   "source": [
    "data.dropna(inplace=True)\n",
    "print(data.isna().sum())"
   ]
  },
  {
   "cell_type": "markdown",
   "metadata": {},
   "source": [
    "***Cheking duplicated values***"
   ]
  },
  {
   "cell_type": "code",
   "execution_count": 228,
   "metadata": {},
   "outputs": [
    {
     "name": "stdout",
     "output_type": "stream",
     "text": [
      "0\n"
     ]
    }
   ],
   "source": [
    "print(data.duplicated().sum())"
   ]
  },
  {
   "cell_type": "markdown",
   "metadata": {},
   "source": [
    "### ***Encoding***"
   ]
  },
  {
   "cell_type": "code",
   "execution_count": 229,
   "metadata": {},
   "outputs": [
    {
     "name": "stdout",
     "output_type": "stream",
     "text": [
      "Address ['The Gate Tower 2, The Gate Tower, Shams Gate District, Shams Abu Dhabi, Al Reem Island, Abu Dhabi'\n",
      " \"Water's Edge, Yas Island, Abu Dhabi\"\n",
      " 'Al Raha Lofts, Al Raha Beach, Abu Dhabi' ...\n",
      " 'Umm Al Quwain Marina, Umm Al Quwain'\n",
      " 'Al Humrah B, Al Humrah, Umm Al Quwain'\n",
      " 'Al Huboob 1, Al Salamah, Umm Al Quwain']\n",
      "Type ['Apartment' 'Penthouse' 'Villa' 'Townhouse' 'Villa Compound'\n",
      " 'Residential Building' 'Residential Floor' 'Hotel Apartment' ' Apartment'\n",
      " 'Residential Plot']\n",
      "Rent_category ['Medium' 'High' 'Low' ' Medium']\n",
      "Frequency ['Yearly' ' Yearly']\n",
      "Furnishing ['Unfurnished' 'Furnished' ' Furnished']\n",
      "Purpose ['For Rent' ' For Rent']\n",
      "Posted_date ['2024-03-07' '2024-03-08' '2024-03-21' '2024-02-24' '2024-02-16'\n",
      " '2023-12-12' '2024-03-11' '2024-02-22' '2024-04-05' '2023-01-29'\n",
      " '2024-03-25' '2024-03-22' '2024-04-02' '2024-03-18' '2024-03-14'\n",
      " '2023-12-01' '2024-02-27' '2024-03-29' '2024-02-28' '2024-03-30'\n",
      " '2024-02-15' '2024-02-13' '2024-04-06' '2024-01-15' '2024-02-06'\n",
      " '2023-12-18' '2024-02-04' '2023-12-05' '2023-11-23' '2024-01-11'\n",
      " '2023-11-21' '2023-11-07' '2023-10-23' '2023-10-31' '2023-12-07'\n",
      " '2024-03-17' '2024-01-29' '2024-03-04' '2024-02-07' '2024-01-16'\n",
      " '2024-04-09' '2024-04-07' '2024-02-23' '2024-02-03' '2024-04-08'\n",
      " '2023-03-24' '2024-04-04' '2024-04-03' '2024-03-23' '2023-10-03'\n",
      " '2023-10-04' '2024-04-01' '2022-09-19' '2024-03-31' '2023-09-28'\n",
      " '2024-01-23' '2024-03-27' '2024-03-28' '2024-03-15' '2023-11-03'\n",
      " '2024-03-26' '2023-09-24' '2024-03-24' '2023-09-20' '2024-03-20'\n",
      " '2024-01-07' '2023-09-14' '2024-03-16' '2024-03-19' '2023-03-09'\n",
      " '2023-10-15' '2023-09-10' '2023-06-16' '2023-03-21' '2023-09-13'\n",
      " '2024-03-13' '2023-09-08' '2023-12-16' '2024-02-11' '2024-02-12'\n",
      " '2023-10-11' '2024-03-12' '2023-09-09' '2023-08-04' '2024-01-25'\n",
      " '2024-03-09' '2023-11-08' '2024-02-21' '2024-03-10' '2023-09-11'\n",
      " '2024-03-03' '2024-03-05' '2024-01-27' '2024-03-02' '2023-08-17'\n",
      " '2024-02-01' '2024-03-06' '2024-03-01' '2023-11-01' '2024-02-25'\n",
      " '2024-02-26' '2024-02-29' '2024-02-19' '2023-09-04' '2024-02-17'\n",
      " '2024-02-20' '2023-08-22' '2024-02-09' '2023-02-13' '2024-02-18'\n",
      " '2024-02-08' '2024-02-05' '2023-07-28' '2024-02-02' '2024-01-31'\n",
      " '2023-08-02' '2023-10-19' '2022-08-23' '2023-09-25' '2023-07-17'\n",
      " '2024-01-17' '2024-01-26' '2024-01-19' '2023-07-15' '2024-01-22'\n",
      " '2024-01-18' '2023-11-02' '2024-01-24' '2024-01-12' '2024-01-10'\n",
      " '2023-10-16' '2023-12-26' '2023-09-26' '2024-01-09' '2024-01-08'\n",
      " '2023-12-30' '2023-10-20' '2023-12-28' '2024-01-03' '2024-02-14'\n",
      " '2024-01-05' '2023-08-20' '2024-01-04' '2023-12-25' '2023-12-17'\n",
      " '2023-12-10' '2023-12-15' '2023-12-11' '2023-12-22' '2023-10-06'\n",
      " '2023-10-09' '2023-05-29' '2023-12-27' '2023-12-03' '2023-12-13'\n",
      " '2023-11-30' '2023-11-26' '2023-11-24' '2023-12-06' '2023-11-29'\n",
      " '2023-11-22' '2022-12-28' '2023-11-20' '2023-11-16' '2023-11-12'\n",
      " '2023-11-18' '2023-11-14' '2023-11-05' '2023-06-20' '2023-10-28'\n",
      " '2023-10-26' '2023-11-13' '2023-12-20' '2023-10-30' '2023-10-12'\n",
      " '2023-11-27' '2023-10-05' '2023-11-17' '2023-11-25' '2023-11-10'\n",
      " '2023-11-15' '2023-11-04' '2023-10-22' '2023-10-21' '2023-12-09'\n",
      " '2023-05-02' '2024-01-14' '2024-04-10' '2024-01-21' '2023-08-19'\n",
      " '2023-04-10' '2023-09-30' '2023-09-21' '2023-04-07' '2023-04-04'\n",
      " '2023-07-20' '2023-10-25' '2023-11-06' '2023-03-20' '2023-03-23'\n",
      " '2023-10-01' '2023-09-22' '2023-08-11' '2023-03-14' '2023-10-13'\n",
      " '2023-10-18' '2023-12-14' '2023-09-06' '2023-08-09' '2023-07-21'\n",
      " '2022-08-06' '2023-10-17' '2024-01-02' '2023-12-24' '2023-05-23'\n",
      " '2024-01-13' '2023-11-19' '2023-04-03' '2022-08-10' '2023-03-02'\n",
      " '2023-08-21' '2023-09-18' '2023-03-11' '2023-09-12' '2023-09-07'\n",
      " '2023-08-29' '2023-01-10' '2023-08-23' '2024-02-10' '2023-12-31'\n",
      " '2023-08-03' '2024-01-30' '2023-10-14' '2024-01-28' '2024-01-06'\n",
      " '2024-01-20' '2023-12-21' '2023-08-31' '2023-07-03' '2023-12-23'\n",
      " '2023-07-19' '2023-06-21' '2023-12-08' '2023-11-28' '2023-09-16'\n",
      " '2023-09-19' '2023-05-04' '2023-06-13' '2023-10-29' '2023-06-08'\n",
      " '2023-07-02' '2023-10-02' '2023-02-07' '2023-10-27' '2023-08-28'\n",
      " '2023-09-03' '2023-08-26' '2023-09-01' '2023-01-27' '2023-08-27'\n",
      " '2023-08-13' '2023-08-12' '2023-08-24' '2023-07-30' '2023-08-10'\n",
      " '2023-07-31' '2023-07-29' '2023-12-19' '2023-12-29' '2023-10-08'\n",
      " '2023-05-10' '2022-10-17' '2023-10-07' '2023-09-27' '2023-09-29'\n",
      " '2023-09-23' '2023-03-31' '2023-11-09' '2023-10-24' '2023-11-11'\n",
      " '2023-09-17' '2023-03-29' '2023-04-19' '2023-08-06' '2023-01-11'\n",
      " '2023-03-25' '2023-09-15' '2023-08-05' '2023-03-15' '2023-08-30'\n",
      " '2023-09-05' '2023-08-25' '2023-09-02' '2023-08-08' '2023-03-08'\n",
      " '2023-03-05' '2023-07-12' '2023-03-13' '2023-03-01' '2023-03-07'\n",
      " '2022-09-13' '2023-03-03' '2023-04-24' '2023-04-13' '2023-04-25'\n",
      " '2023-08-18' '2023-08-16' '2022-08-19' '2023-08-14' '2023-01-28'\n",
      " '2023-08-15' '2023-02-05' '2022-08-28' '2023-01-25' '2023-12-04'\n",
      " '2023-08-07' '2023-01-31' '2023-07-18' '2023-02-16' '2023-07-27'\n",
      " '2023-03-16' '2023-08-01' '2023-07-24' '2023-01-20' '2023-07-25'\n",
      " '2023-07-22' '2023-07-26' '2023-07-16' '2023-01-23' '2023-02-12'\n",
      " '2023-02-21' ' 2024-03-15' '2023-06-09' '2022-08-03' '2023-07-14'\n",
      " '2023-01-24' '2023-07-10' '2023-07-04' '2023-07-13' '2023-07-23'\n",
      " '2023-07-09' '2023-07-08' '2023-02-04' '2023-07-11' '2023-07-05'\n",
      " '2022-07-16' '2023-03-06' '2024-01-01' '2023-10-10' '2023-07-06'\n",
      " '2023-07-01' '2023-07-07' '2023-06-27' '2023-02-08' '2023-06-10'\n",
      " '2023-06-26' '2022-12-30' '2023-02-01' '2023-06-17' '2023-06-15'\n",
      " '2023-06-12' '2023-06-23' '2023-06-22' '2023-06-19' '2023-06-18'\n",
      " '2023-06-05' '2023-06-03' '2023-05-30' '2023-06-25' '2023-06-02'\n",
      " '2023-05-17' '2023-05-31' '2023-06-30' '2023-06-01' '2023-05-25'\n",
      " '2022-11-24' '2023-12-02' '2023-06-07' '2023-06-06' '2022-12-06'\n",
      " '2023-06-11' '2022-09-28' '2023-05-22' '2023-05-19' '2023-05-28'\n",
      " '2023-05-07' '2022-01-16' '2022-11-21' '2023-05-27' '2023-05-26'\n",
      " '2023-05-16' '2023-05-09' '2023-05-05' '2023-05-06' '2023-05-01'\n",
      " '2023-05-11' '2022-12-08' '2023-05-14' '2022-11-07' '2023-05-18'\n",
      " '2023-05-08' '2023-05-03' '2023-05-15' '2023-06-14' '2022-10-31'\n",
      " '2022-11-12' '2023-05-12' '2022-12-13' '2023-04-27' '2023-04-26'\n",
      " '2023-04-14' '2023-04-17' '2022-10-04' '2023-06-04' '2023-04-29'\n",
      " '2023-03-10' '2022-11-10' '2022-12-11' '2023-01-18' '2022-10-11'\n",
      " '2023-05-24' '2022-09-23' '2023-04-28' '2023-06-29' '2022-10-01'\n",
      " '2022-12-14' '2023-01-03' '2022-11-04' '2020-06-03' '2023-04-06'\n",
      " '2023-03-18' '2023-04-12' '2022-10-30' '2022-09-26' '2023-02-28'\n",
      " '2023-01-16' '2023-01-04' '2022-12-23' '2023-04-08' '2022-12-31'\n",
      " '2022-04-13' '2022-04-16' '2022-04-21' '2023-04-18' '2023-05-21'\n",
      " '2022-10-23' '2022-10-19' '2022-10-03' '2022-11-26' '2022-11-03'\n",
      " '2023-04-23' '2023-03-22' '2022-09-08' '2023-03-04' '2023-02-20'\n",
      " '2022-10-27' '2022-08-12' '2023-02-06' '2022-12-25' '2022-12-24'\n",
      " '2023-06-24' '2022-05-19' '2022-05-16' '2023-05-20' '2022-11-09'\n",
      " '2022-04-01' '2022-09-25' '2022-10-10' '2022-07-12' '2022-09-07'\n",
      " '2023-02-10' '2022-11-22' '2021-11-07' '2022-10-05' '2023-02-22'\n",
      " '2023-02-23' '2021-12-28' '2021-03-17' '2021-12-20' '2023-01-12'\n",
      " '2022-11-14' '2021-03-18' '2022-10-06' '2022-11-08' '2023-02-27'\n",
      " '2023-03-28' '2022-03-26' '2022-12-19' '2022-11-16' '2023-01-30'\n",
      " '2022-12-17' '2019-07-17' '2022-03-13' '2022-10-18' '2020-12-10'\n",
      " '2022-03-03' '2022-01-05' '2022-10-15' '2018-01-27' '2022-04-18'\n",
      " '2022-12-15' '2022-11-17' '2022-03-20' '2022-08-30' '2023-04-01'\n",
      " '2023-02-14' '2023-01-13' '2021-09-04' '2021-08-30' '2020-06-20'\n",
      " '2022-08-18' '2023-01-26' '2021-07-08' '2021-07-11' '2022-07-21'\n",
      " '2020-11-22' '2023-02-11' '2022-06-08' '2019-05-29' '2021-10-24'\n",
      " '2021-10-20' '2021-11-10' '2022-08-26' '2023-04-15' '2022-06-02'\n",
      " '2023-03-30' '2022-07-19' '2020-03-21' '2021-10-23' '2022-06-26'\n",
      " '2021-07-07' '2021-03-06' '2022-09-20' '2022-10-21' '2022-05-10'\n",
      " '2022-06-04' '2022-06-27' '2022-06-28' '2023-01-07']\n",
      "Location ['Al Reem Island' 'Yas Island' 'Al Raha Beach' 'Al Bateen' 'Al Reef'\n",
      " 'The Marina' 'Al Khalidiyah' 'Al Raha Gardens' 'Mohammed Bin Zayed City'\n",
      " 'Shakhbout City' 'Madinat Al Riyadh' 'Corniche Area' 'Al Muroor'\n",
      " 'Zayed Sports City' 'Khalifa City' 'Hamdan Street' 'Al Bahia'\n",
      " 'Masdar City' 'Al Najda Street' 'Tourist Club Area (TCA)' 'Al Matar'\n",
      " 'Al Shamkha' 'Rawdhat Abu Dhabi' 'Al Ghadeer' 'Danet Abu Dhabi' 'Baniyas'\n",
      " 'Al Mushrif' 'Airport Street' 'Al Jubail Island' 'Al Hosn'\n",
      " 'Saadiyat Island' 'Corniche Road' 'Sheikh Khalifa Bin Zayed Street'\n",
      " 'Electra Street' 'Al Falah Street' 'Al Wahdah' 'Madinat Zayed' 'Rabdan'\n",
      " 'Al Rahba' 'Al Maqtaa' 'Capital Centre' 'Al Karamah' 'Al Markaziya'\n",
      " 'Defence Street' 'Al Nahyan' 'Between Two Bridges (Bain Al Jessrain)'\n",
      " 'Al Nasr Street' 'Al Zahraa' 'Al Muntazah' 'Al Zaab' 'Al Samha'\n",
      " 'Al Shawamekh' 'Hydra Village' 'Sas Al Nakhl Village' 'Al Zahiyah'\n",
      " 'Al Rawdah' 'Sheikh Rashid Bin Saeed Street' 'Al Maryah Island'\n",
      " 'Al Manhal' 'Zayed City' 'Al Aman' 'Al Shahama' 'Mussafah' 'Al Khubeirah'\n",
      " 'Al Mina' 'Al Falah City' 'Al Salam Street' 'Al Qurm' 'Al Ras Al Akhdar'\n",
      " 'Al Danah' 'Al Dhafrah' 'KIZAD' 'Al Wathba' 'Liwa Street' 'Muwaylih'\n",
      " 'Al Nahda' ' Al Raha Beach' 'Al Yasmeen' 'Al Rawda' 'Al Zahya'\n",
      " 'Al Nuaimiya' 'Al Mowaihat' 'Al Sawan' 'Al Helio' 'Al Alia'\n",
      " 'Corniche Ajman' 'Ajman Downtown' 'Al Rashidiya' 'Al Nakhil' 'Al Jurf'\n",
      " 'Ajman Industrial' 'Al Hamidiyah' 'Garden City' 'Masfoot' 'Musherief'\n",
      " 'Al Zorah' 'Al Bustan' 'Emirates City' 'Al Rumaila'\n",
      " 'Sheikh Maktoum Bin Rashid Street' 'Ajman Free Zone' 'Al Tallah 2'\n",
      " 'Al Tallah 1' 'Al Ameera Village' 'Asharij' 'Al Marakhaniya'\n",
      " 'Shiab Al Ashkhar' 'Al Sarouj' 'Al Jimi' 'Al Tiwayya' 'Zakhir' 'Al Maqam'\n",
      " 'Al Jahili' 'Al Khibeesi' 'Al Hayer' 'Al Iqabiyyah' 'Central District'\n",
      " 'Hili' 'Al Rawdah Al Sharqiyah' 'Al Muwaiji' 'Al Yahar' 'Falaj Hazzaa'\n",
      " 'Al Mutarad' 'Al Sidrah' 'Neima' \"Al Mutaw'ah\" 'Al Dhahir' 'Al Qattara'\n",
      " 'Um Ghafah' \"Al Fou'ah\" 'Abu Samrah' 'Al Masoudi' 'Ghnaymah'\n",
      " 'Jumeirah Village Circle (JVC)' 'Dubai Hills Estate' 'Arabian Ranches 2'\n",
      " 'Dubai Silicon Oasis (DSO)' 'Dubai Sports City' 'Town Square'\n",
      " 'Meydan City' 'Dubai Creek Harbour' 'Dubai Harbour'\n",
      " 'Jumeirah Beach Residence (JBR)' 'Palm Jumeirah' 'Mirdif'\n",
      " 'DAMAC Hills 2 (Akoya by DAMAC)' 'Al Jaddaf' 'Dubailand'\n",
      " 'Jumeirah Golf Estates' 'Dubai South' 'Dubai Marina' 'Al Furjan'\n",
      " 'The Valley' 'Downtown Dubai' 'Arjan' 'Ras Al Khor' 'Reem' 'DAMAC Hills'\n",
      " 'Umm Suqeim' 'Jumeirah Heights' 'Mudon' 'Business Bay'\n",
      " 'Jumeirah Lake Towers (JLT)' 'Tilal Al Ghaf' \"Za'abeel\"\n",
      " 'Arabian Ranches 3' 'Motor City' 'The Views' 'The Meadows' 'Al Wasl'\n",
      " 'Jumeirah' 'Sheikh Zayed Road' 'Arabian Ranches' 'Jumeirah Park'\n",
      " 'Dubai Residence Complex' 'The Springs' 'Mohammed Bin Rashid City'\n",
      " 'Serena' 'Dubai Production City (IMPZ)' 'Nad Al Sheba' 'The Greens'\n",
      " 'Sobha Hartland' 'Bur Dubai' 'Dubai Studio City' 'Green Community'\n",
      " 'Jumeirah Islands' 'Jumeirah Village Triangle (JVT)' 'The Villa'\n",
      " 'Al Barari' 'Al Barsha' 'Al Nahda (Dubai)' 'DIFC' 'Liwan'\n",
      " 'Living Legends' 'Discovery Gardens' 'Barsha Heights (Tecom)' 'Al Karama'\n",
      " 'Remraam' 'Bluewaters Island' 'Dubai Media City' 'International City'\n",
      " 'The Lakes' 'City of Arabia' 'World Trade Centre' 'Bukadra'\n",
      " 'Dubai Festival City' 'Culture Village' 'Deira' 'Falcon City of Wonders'\n",
      " 'Al Safa' 'Majan' 'Liwan 2' 'Al Quoz' 'The Sustainable City'\n",
      " 'Umm Al Sheif' 'Jebel Ali' 'Nad Al Hamar' 'Al Warqaa' 'Al Qusais'\n",
      " 'Al Awir' 'Al Satwa' 'The Hills' 'Muhaisnah' 'Al Khawaneej' 'The Gardens'\n",
      " 'Expo City' 'Dubai Investment Park (DIP)' 'Dubai Waterfront'\n",
      " 'Dubai Industrial City' 'Dubai Internet City' 'Al Sufouh'\n",
      " 'Dubai Maritime City' 'Emirates Hills' 'Al Warsan' 'Al Badaa' 'Al Mizhar'\n",
      " 'Al Jafiliya' 'Al Garhoud' 'Wasl Gate' 'Al Mamzar' 'Wadi Al Shabak'\n",
      " 'Al Hudaiba' 'Pearl Jumeirah' 'Al Manara' 'Wadi Al Safa 2' 'Al Twar'\n",
      " 'Hadaeq Sheikh Mohammed Bin Rashid' 'Knowledge Village' 'Umm Ramool'\n",
      " 'Al Hebiah 2' 'Al Lisaili' 'Oud Al Muteena' 'Fujairah Tower'\n",
      " 'Fujairah Freezone' 'Dibba' 'Tawyeen' 'Mirbah'\n",
      " 'Address Fujairah Beach Resort' 'Sakamkam' 'Al Marjan Island'\n",
      " 'Al Hamra Village' 'Al Nakheel' 'Mina Al Arab' 'Al Qusaidat'\n",
      " 'The Cove Rotana Resort' 'Dafan Al Nakheel' 'Rak City' 'Al Seer'\n",
      " 'Yasmin Village' 'Al Mairid' 'Al Dhait' 'Khuzam' 'Dafan Al Khor'\n",
      " 'Seih Al Uraibi' 'Sidroh' 'Al Uraibi' 'Wadi Ammar' 'Dahan' 'Al Ghubb'\n",
      " 'Al Nudood' 'Al Kharran' 'Julfar' 'Al Sharisha' 'Al Rams' 'Aljada'\n",
      " 'Al Khan' 'Muwaileh' 'Al Nahda (Sharjah)' 'Al Tai' 'Al Taawun'\n",
      " 'Muwailih Commercial' 'Al Majaz' 'Al Wahda Street' 'Industrial Area'\n",
      " 'Al Qasimia' 'Tilal City' 'Al Rahmaniya' 'Sharqan' 'Al Qasba' 'Al Fisht'\n",
      " 'Abu Shagara' 'Al Mujarrah' 'Barashi' 'Al Mareija' 'Al Dhaid'\n",
      " 'Al Ramaqiya' 'Al Nabba' 'Al Sharq' 'Al Nasserya' 'Rolla Area'\n",
      " 'Al Ghuwair' 'Al Ramtha' 'Um Tarafa' 'Bu Tina' 'Al Mahatah' 'Al Musalla'\n",
      " 'Al Soor' 'Al Ramla' 'Al Falaj' 'Al Jazzat' 'Maysaloon' 'Al Nekhailat'\n",
      " 'Al Mansoura' 'Hoshi' 'Al Abar' 'Al Fayha' 'Samnan' 'Al Yarmook'\n",
      " 'Al Jubail' 'Al Noaf' 'Al Sajaa' 'Al Shahba' 'Al Manakh' 'Khor Fakkan'\n",
      " 'Al Ghafia' 'Al Sabkha' 'Kalba' 'Dasman' 'Al Darari' 'Al Juraina'\n",
      " 'Sharjah University City' 'Al Gharb' 'Al Sajaa Industrial' 'Al Tay East'\n",
      " 'Al Mirgab' 'Al Riqaibah' 'Al Rifa' 'Al Ghubaiba' 'Al Riqqa Suburb'\n",
      " 'Al Yash' 'Al Bataeh' 'Al Ramlah' 'Al Butain' 'Al Salamah' 'Al Abraq 1'\n",
      " 'Al Qarayen' 'Old Town Area' 'Umm Al Quwain Marina' 'Al Hawiyah'\n",
      " 'Al Humrah']\n",
      "City ['Abu Dhabi' ' Abu Dhabi' 'Ajman' 'Al Ain' 'Dubai' 'Fujairah'\n",
      " 'Ras Al Khaimah' 'Sharjah' 'Umm Al Quwain']\n"
     ]
    }
   ],
   "source": [
    "obj_columns = data.select_dtypes(include=[\"object\"]).columns\n",
    "for col in obj_columns:\n",
    "    uniques = data[col].unique()\n",
    "    print(col, uniques)"
   ]
  },
  {
   "cell_type": "code",
   "execution_count": 230,
   "metadata": {},
   "outputs": [],
   "source": [
    "columns_to_label_encoding = [\"Rent_category\", \"Frequency\", \"Furnishing\", \"Purpose\"]\n",
    "\n",
    "\n",
    "\n",
    "columns_to_categorical_encoding = [\"Address\", \"Type\", \"Location\", \"City\"]"
   ]
  },
  {
   "cell_type": "markdown",
   "metadata": {},
   "source": [
    "***Label Encoding***"
   ]
  },
  {
   "cell_type": "code",
   "execution_count": 231,
   "metadata": {},
   "outputs": [],
   "source": [
    "from sklearn.preprocessing import LabelEncoder"
   ]
  },
  {
   "cell_type": "code",
   "execution_count": 232,
   "metadata": {},
   "outputs": [],
   "source": [
    "label_encoder = LabelEncoder()\n",
    "for col in columns_to_label_encoding:\n",
    "    data[col] = label_encoder.fit_transform(data[col])"
   ]
  },
  {
   "cell_type": "code",
   "execution_count": 233,
   "metadata": {},
   "outputs": [
    {
     "name": "stdout",
     "output_type": "stream",
     "text": [
      "Rent_category [3 1 2 0]\n",
      "Frequency [1 0]\n",
      "Furnishing [2 1 0]\n",
      "Purpose [1 0]\n"
     ]
    }
   ],
   "source": [
    "for col in columns_to_label_encoding:\n",
    "    print(col, data[col].unique())"
   ]
  },
  {
   "cell_type": "markdown",
   "metadata": {},
   "source": [
    "***Date Encoding*** *using (ordinal encoder)*"
   ]
  },
  {
   "cell_type": "code",
   "execution_count": 234,
   "metadata": {},
   "outputs": [],
   "source": [
    "data[\"Posted_date\"] = pd.to_datetime(\n",
    "    data[\"Posted_date\"], format=\"%Y-%m-%d\", errors=\"coerce\"\n",
    ").dt.day_of_year"
   ]
  },
  {
   "cell_type": "code",
   "execution_count": 235,
   "metadata": {},
   "outputs": [
    {
     "data": {
      "text/plain": [
       "0         67.0\n",
       "1         68.0\n",
       "2         81.0\n",
       "3         55.0\n",
       "4         47.0\n",
       "         ...  \n",
       "73729    343.0\n",
       "73734    335.0\n",
       "73735     86.0\n",
       "73737    348.0\n",
       "73738    348.0\n",
       "Name: Posted_date, Length: 73023, dtype: float64"
      ]
     },
     "execution_count": 235,
     "metadata": {},
     "output_type": "execute_result"
    }
   ],
   "source": [
    "data[\"Posted_date\"]"
   ]
  },
  {
   "cell_type": "markdown",
   "metadata": {},
   "source": [
    "***Categorical Ecoding*** *(Target encoder)*"
   ]
  },
  {
   "cell_type": "code",
   "execution_count": 236,
   "metadata": {},
   "outputs": [],
   "source": [
    "# type this command in terminal: pip install category_encoders\n",
    "import category_encoders as ce"
   ]
  },
  {
   "cell_type": "code",
   "execution_count": 237,
   "metadata": {},
   "outputs": [],
   "source": [
    "encoder = ce.TargetEncoder(cols=columns_to_categorical_encoding)\n",
    "data_encoded = encoder.fit_transform(\n",
    "    data[columns_to_categorical_encoding], data[\"Rent_category\"]\n",
    ")\n",
    "\n",
    "data = pd.concat(\n",
    "    [data.drop(columns=columns_to_categorical_encoding), data_encoded], axis=1\n",
    ")"
   ]
  },
  {
   "cell_type": "code",
   "execution_count": 238,
   "metadata": {},
   "outputs": [
    {
     "data": {
      "text/html": [
       "<div>\n",
       "<style scoped>\n",
       "    .dataframe tbody tr th:only-of-type {\n",
       "        vertical-align: middle;\n",
       "    }\n",
       "\n",
       "    .dataframe tbody tr th {\n",
       "        vertical-align: top;\n",
       "    }\n",
       "\n",
       "    .dataframe thead th {\n",
       "        text-align: right;\n",
       "    }\n",
       "</style>\n",
       "<table border=\"1\" class=\"dataframe\">\n",
       "  <thead>\n",
       "    <tr style=\"text-align: right;\">\n",
       "      <th></th>\n",
       "      <th>Address</th>\n",
       "      <th>Type</th>\n",
       "      <th>Location</th>\n",
       "      <th>City</th>\n",
       "    </tr>\n",
       "  </thead>\n",
       "  <tbody>\n",
       "    <tr>\n",
       "      <th>0</th>\n",
       "      <td>2.657878</td>\n",
       "      <td>2.124840</td>\n",
       "      <td>2.542257</td>\n",
       "      <td>2.129017</td>\n",
       "    </tr>\n",
       "    <tr>\n",
       "      <th>1</th>\n",
       "      <td>2.492669</td>\n",
       "      <td>2.124840</td>\n",
       "      <td>1.676570</td>\n",
       "      <td>2.129017</td>\n",
       "    </tr>\n",
       "    <tr>\n",
       "      <th>2</th>\n",
       "      <td>2.509815</td>\n",
       "      <td>2.124840</td>\n",
       "      <td>2.183177</td>\n",
       "      <td>2.129017</td>\n",
       "    </tr>\n",
       "    <tr>\n",
       "      <th>3</th>\n",
       "      <td>2.233018</td>\n",
       "      <td>1.345865</td>\n",
       "      <td>2.542257</td>\n",
       "      <td>2.129017</td>\n",
       "    </tr>\n",
       "    <tr>\n",
       "      <th>4</th>\n",
       "      <td>1.026812</td>\n",
       "      <td>1.664384</td>\n",
       "      <td>1.676570</td>\n",
       "      <td>2.129017</td>\n",
       "    </tr>\n",
       "    <tr>\n",
       "      <th>...</th>\n",
       "      <td>...</td>\n",
       "      <td>...</td>\n",
       "      <td>...</td>\n",
       "      <td>...</td>\n",
       "    </tr>\n",
       "    <tr>\n",
       "      <th>73729</th>\n",
       "      <td>2.064089</td>\n",
       "      <td>2.124840</td>\n",
       "      <td>2.061570</td>\n",
       "      <td>2.026545</td>\n",
       "    </tr>\n",
       "    <tr>\n",
       "      <th>73734</th>\n",
       "      <td>2.058332</td>\n",
       "      <td>1.664384</td>\n",
       "      <td>2.036955</td>\n",
       "      <td>2.026545</td>\n",
       "    </tr>\n",
       "    <tr>\n",
       "      <th>73735</th>\n",
       "      <td>2.006843</td>\n",
       "      <td>2.124840</td>\n",
       "      <td>2.048729</td>\n",
       "      <td>2.026545</td>\n",
       "    </tr>\n",
       "    <tr>\n",
       "      <th>73737</th>\n",
       "      <td>2.007040</td>\n",
       "      <td>2.124840</td>\n",
       "      <td>2.061570</td>\n",
       "      <td>2.026545</td>\n",
       "    </tr>\n",
       "    <tr>\n",
       "      <th>73738</th>\n",
       "      <td>2.006843</td>\n",
       "      <td>2.124840</td>\n",
       "      <td>2.048729</td>\n",
       "      <td>2.026545</td>\n",
       "    </tr>\n",
       "  </tbody>\n",
       "</table>\n",
       "<p>73023 rows × 4 columns</p>\n",
       "</div>"
      ],
      "text/plain": [
       "        Address      Type  Location      City\n",
       "0      2.657878  2.124840  2.542257  2.129017\n",
       "1      2.492669  2.124840  1.676570  2.129017\n",
       "2      2.509815  2.124840  2.183177  2.129017\n",
       "3      2.233018  1.345865  2.542257  2.129017\n",
       "4      1.026812  1.664384  1.676570  2.129017\n",
       "...         ...       ...       ...       ...\n",
       "73729  2.064089  2.124840  2.061570  2.026545\n",
       "73734  2.058332  1.664384  2.036955  2.026545\n",
       "73735  2.006843  2.124840  2.048729  2.026545\n",
       "73737  2.007040  2.124840  2.061570  2.026545\n",
       "73738  2.006843  2.124840  2.048729  2.026545\n",
       "\n",
       "[73023 rows x 4 columns]"
      ]
     },
     "execution_count": 238,
     "metadata": {},
     "output_type": "execute_result"
    }
   ],
   "source": [
    "data[columns_to_categorical_encoding]"
   ]
  },
  {
   "cell_type": "markdown",
   "metadata": {},
   "source": [
    "### ***Handling Outilers***"
   ]
  },
  {
   "cell_type": "code",
   "execution_count": 239,
   "metadata": {},
   "outputs": [],
   "source": [
    "import seaborn as sns"
   ]
  },
  {
   "cell_type": "markdown",
   "metadata": {},
   "source": [
    "***Handling outliers in 1st column***"
   ]
  },
  {
   "cell_type": "code",
   "execution_count": 240,
   "metadata": {},
   "outputs": [
    {
     "name": "stdout",
     "output_type": "stream",
     "text": [
      "Rent\n"
     ]
    }
   ],
   "source": [
    "print(data.columns[0])"
   ]
  },
  {
   "cell_type": "code",
   "execution_count": 241,
   "metadata": {},
   "outputs": [
    {
     "data": {
      "text/plain": [
       "<Axes: >"
      ]
     },
     "execution_count": 241,
     "metadata": {},
     "output_type": "execute_result"
    },
    {
     "data": {
      "image/png": "[encoded data removed]",
      "text/plain": [
       "<Figure size 640x480 with 1 Axes>"
      ]
     },
     "metadata": {},
     "output_type": "display_data"
    }
   ],
   "source": [
    "sns.set_style(\"darkgrid\")\n",
    "sns.boxplot(data=data[\"Rent\"])"
   ]
  },
  {
   "cell_type": "code",
   "execution_count": 242,
   "metadata": {},
   "outputs": [
    {
     "name": "stdout",
     "output_type": "stream",
     "text": [
      "15\n"
     ]
    }
   ],
   "source": [
    "num_rent_outiers = (data[\"Rent\"] > 0.5e7).sum()\n",
    "print(num_rent_outiers)"
   ]
  },
  {
   "cell_type": "code",
   "execution_count": 243,
   "metadata": {},
   "outputs": [
    {
     "name": "stdout",
     "output_type": "stream",
     "text": [
      "148372.3144625666\n"
     ]
    }
   ],
   "source": [
    "rent_mean = data[\"Rent\"].mean()\n",
    "print(rent_mean)"
   ]
  },
  {
   "cell_type": "code",
   "execution_count": 244,
   "metadata": {},
   "outputs": [
    {
     "name": "stderr",
     "output_type": "stream",
     "text": [
      "C:\\Users\\Dell\\AppData\\Local\\Temp\\ipykernel_8924\\341940449.py:1: SettingWithCopyWarning: \n",
      "A value is trying to be set on a copy of a slice from a DataFrame\n",
      "\n",
      "See the caveats in the documentation: https://pandas.pydata.org/pandas-docs/stable/user_guide/indexing.html#returning-a-view-versus-a-copy\n",
      "  data[\"Rent\"].loc[data[\"Rent\"] > 0.5e7] = rent_mean\n"
     ]
    }
   ],
   "source": [
    "data[\"Rent\"].loc[data[\"Rent\"] > 0.5e7] = rent_mean"
   ]
  },
  {
   "cell_type": "code",
   "execution_count": 245,
   "metadata": {},
   "outputs": [
    {
     "name": "stdout",
     "output_type": "stream",
     "text": [
      "0\n"
     ]
    }
   ],
   "source": [
    "# check outliers again\n",
    "num_rent_outiers = (data[\"Rent\"] > 0.5e7).sum()\n",
    "print(num_rent_outiers)"
   ]
  },
  {
   "cell_type": "markdown",
   "metadata": {},
   "source": [
    "***Handling outliers in 2nd column***"
   ]
  },
  {
   "cell_type": "code",
   "execution_count": 246,
   "metadata": {},
   "outputs": [
    {
     "name": "stdout",
     "output_type": "stream",
     "text": [
      "Beds\n"
     ]
    }
   ],
   "source": [
    "print(data.columns[1])"
   ]
  },
  {
   "cell_type": "code",
   "execution_count": 247,
   "metadata": {},
   "outputs": [
    {
     "data": {
      "text/plain": [
       "<Axes: >"
      ]
     },
     "execution_count": 247,
     "metadata": {},
     "output_type": "execute_result"
    },
    {
     "data": {
      "image/png": "[encoded data removed]",
      "text/plain": [
       "<Figure size 640x480 with 1 Axes>"
      ]
     },
     "metadata": {},
     "output_type": "display_data"
    }
   ],
   "source": [
    "sns.boxplot(data=data[\"Beds\"])"
   ]
  },
  {
   "cell_type": "code",
   "execution_count": 248,
   "metadata": {},
   "outputs": [
    {
     "name": "stdout",
     "output_type": "stream",
     "text": [
      "0 12\n"
     ]
    }
   ],
   "source": [
    "print(data[\"Beds\"].min(), data[\"Beds\"].max())"
   ]
  },
  {
   "cell_type": "markdown",
   "metadata": {},
   "source": [
    "***Handling outliers in 3rd column***"
   ]
  },
  {
   "cell_type": "code",
   "execution_count": 249,
   "metadata": {},
   "outputs": [
    {
     "name": "stdout",
     "output_type": "stream",
     "text": [
      "Baths\n"
     ]
    }
   ],
   "source": [
    "print(data.columns[2])"
   ]
  },
  {
   "cell_type": "code",
   "execution_count": 250,
   "metadata": {},
   "outputs": [
    {
     "data": {
      "text/plain": [
       "<Axes: >"
      ]
     },
     "execution_count": 250,
     "metadata": {},
     "output_type": "execute_result"
    },
    {
     "data": {
      "image/png": "[encoded data removed]",
      "text/plain": [
       "<Figure size 640x480 with 1 Axes>"
      ]
     },
     "metadata": {},
     "output_type": "display_data"
    }
   ],
   "source": [
    "sns.boxplot(data=data[\"Baths\"])"
   ]
  },
  {
   "cell_type": "code",
   "execution_count": 251,
   "metadata": {},
   "outputs": [
    {
     "name": "stdout",
     "output_type": "stream",
     "text": [
      "201\n"
     ]
    }
   ],
   "source": [
    "num_baths_outiers = (data[\"Baths\"] > 10).sum()\n",
    "print(num_baths_outiers)"
   ]
  },
  {
   "cell_type": "code",
   "execution_count": 252,
   "metadata": {},
   "outputs": [
    {
     "name": "stdout",
     "output_type": "stream",
     "text": [
      "11\n"
     ]
    }
   ],
   "source": [
    "print((data[\"Baths\"]).max())"
   ]
  },
  {
   "cell_type": "markdown",
   "metadata": {},
   "source": [
    "***Handling outliers in 4th column***"
   ]
  },
  {
   "cell_type": "code",
   "execution_count": 253,
   "metadata": {},
   "outputs": [
    {
     "name": "stdout",
     "output_type": "stream",
     "text": [
      "Area_in_sqft\n"
     ]
    }
   ],
   "source": [
    "print(data.columns[3])"
   ]
  },
  {
   "cell_type": "code",
   "execution_count": 254,
   "metadata": {},
   "outputs": [
    {
     "data": {
      "text/plain": [
       "<Axes: >"
      ]
     },
     "execution_count": 254,
     "metadata": {},
     "output_type": "execute_result"
    },
    {
     "data": {
      "image/png": "[encoded data removed]",
      "text/plain": [
       "<Figure size 640x480 with 1 Axes>"
      ]
     },
     "metadata": {},
     "output_type": "display_data"
    }
   ],
   "source": [
    "sns.boxplot(data=data[\"Area_in_sqft\"])"
   ]
  },
  {
   "cell_type": "code",
   "execution_count": 255,
   "metadata": {},
   "outputs": [
    {
     "name": "stdout",
     "output_type": "stream",
     "text": [
      "2035.6344713309504\n"
     ]
    }
   ],
   "source": [
    "area_mean = (data[\"Area_in_sqft\"]).mean()\n",
    "print(area_mean)"
   ]
  },
  {
   "cell_type": "code",
   "execution_count": 256,
   "metadata": {},
   "outputs": [
    {
     "name": "stdout",
     "output_type": "stream",
     "text": [
      "1171\n"
     ]
    }
   ],
   "source": [
    "num_area_outiers = (data[\"Area_in_sqft\"] > 10000).sum()\n",
    "print(num_area_outiers)"
   ]
  },
  {
   "cell_type": "code",
   "execution_count": 257,
   "metadata": {},
   "outputs": [
    {
     "data": {
      "text/plain": [
       "210254"
      ]
     },
     "execution_count": 257,
     "metadata": {},
     "output_type": "execute_result"
    }
   ],
   "source": [
    "(data[\"Area_in_sqft\"]).max()"
   ]
  },
  {
   "cell_type": "code",
   "execution_count": 258,
   "metadata": {},
   "outputs": [
    {
     "name": "stderr",
     "output_type": "stream",
     "text": [
      "C:\\Users\\Dell\\AppData\\Local\\Temp\\ipykernel_8924\\1008635694.py:1: SettingWithCopyWarning: \n",
      "A value is trying to be set on a copy of a slice from a DataFrame\n",
      "\n",
      "See the caveats in the documentation: https://pandas.pydata.org/pandas-docs/stable/user_guide/indexing.html#returning-a-view-versus-a-copy\n",
      "  data[\"Area_in_sqft\"].loc[data[\"Area_in_sqft\"] > 10000] = 10000\n"
     ]
    }
   ],
   "source": [
    "data[\"Area_in_sqft\"].loc[data[\"Area_in_sqft\"] > 10000] = 10000"
   ]
  },
  {
   "cell_type": "code",
   "execution_count": 259,
   "metadata": {},
   "outputs": [
    {
     "name": "stdout",
     "output_type": "stream",
     "text": [
      "0\n"
     ]
    }
   ],
   "source": [
    "# check outliers again\n",
    "num_outiers = (data[\"Area_in_sqft\"] > 10000).sum()\n",
    "print(num_outiers)"
   ]
  },
  {
   "cell_type": "markdown",
   "metadata": {},
   "source": [
    "***Handling outliers in 5th column***"
   ]
  },
  {
   "cell_type": "code",
   "execution_count": 260,
   "metadata": {},
   "outputs": [
    {
     "name": "stdout",
     "output_type": "stream",
     "text": [
      "Rent_per_sqft\n"
     ]
    }
   ],
   "source": [
    "print(data.columns[4])"
   ]
  },
  {
   "cell_type": "code",
   "execution_count": 261,
   "metadata": {},
   "outputs": [
    {
     "data": {
      "text/plain": [
       "<Axes: >"
      ]
     },
     "execution_count": 261,
     "metadata": {},
     "output_type": "execute_result"
    },
    {
     "data": {
      "image/png": "[encoded data removed]",
      "text/plain": [
       "<Figure size 640x480 with 1 Axes>"
      ]
     },
     "metadata": {},
     "output_type": "display_data"
    }
   ],
   "source": [
    "sns.boxplot(data=data[\"Rent_per_sqft\"])"
   ]
  },
  {
   "cell_type": "code",
   "execution_count": 262,
   "metadata": {},
   "outputs": [
    {
     "name": "stdout",
     "output_type": "stream",
     "text": [
      "1154\n"
     ]
    }
   ],
   "source": [
    "num_rent_sqft_outliears = (data[\"Rent_per_sqft\"] > 280).sum()\n",
    "print(num_rent_sqft_outliears)"
   ]
  },
  {
   "cell_type": "code",
   "execution_count": 263,
   "metadata": {},
   "outputs": [
    {
     "name": "stderr",
     "output_type": "stream",
     "text": [
      "C:\\Users\\Dell\\AppData\\Local\\Temp\\ipykernel_8924\\84417510.py:1: SettingWithCopyWarning: \n",
      "A value is trying to be set on a copy of a slice from a DataFrame\n",
      "\n",
      "See the caveats in the documentation: https://pandas.pydata.org/pandas-docs/stable/user_guide/indexing.html#returning-a-view-versus-a-copy\n",
      "  data[\"Rent_per_sqft\"].loc[data[\"Rent_per_sqft\"] > 280] = 280\n"
     ]
    }
   ],
   "source": [
    "data[\"Rent_per_sqft\"].loc[data[\"Rent_per_sqft\"] > 280] = 280"
   ]
  },
  {
   "cell_type": "code",
   "execution_count": 264,
   "metadata": {},
   "outputs": [
    {
     "name": "stdout",
     "output_type": "stream",
     "text": [
      "0\n"
     ]
    }
   ],
   "source": [
    "# check num outliers again\n",
    "num_rent_sqft_outliears = (data[\"Rent_per_sqft\"] > 280).sum()\n",
    "print(num_rent_sqft_outliears)"
   ]
  },
  {
   "cell_type": "markdown",
   "metadata": {},
   "source": [
    "***Handling outliers in 6th column***"
   ]
  },
  {
   "cell_type": "code",
   "execution_count": 265,
   "metadata": {},
   "outputs": [
    {
     "name": "stdout",
     "output_type": "stream",
     "text": [
      "Rent_category\n"
     ]
    }
   ],
   "source": [
    "print(data.columns[5])"
   ]
  },
  {
   "cell_type": "code",
   "execution_count": 266,
   "metadata": {},
   "outputs": [
    {
     "data": {
      "text/plain": [
       "<Axes: >"
      ]
     },
     "execution_count": 266,
     "metadata": {},
     "output_type": "execute_result"
    },
    {
     "data": {
      "image/png": "[encoded data removed]",
      "text/plain": [
       "<Figure size 640x480 with 1 Axes>"
      ]
     },
     "metadata": {},
     "output_type": "display_data"
    }
   ],
   "source": [
    "sns.boxplot(data=data[\"Rent_category\"])"
   ]
  },
  {
   "cell_type": "markdown",
   "metadata": {},
   "source": [
    "***Handling outliers in 7th column***"
   ]
  },
  {
   "cell_type": "code",
   "execution_count": 267,
   "metadata": {},
   "outputs": [
    {
     "name": "stdout",
     "output_type": "stream",
     "text": [
      "Frequency\n"
     ]
    }
   ],
   "source": [
    "print(data.columns[6])"
   ]
  },
  {
   "cell_type": "code",
   "execution_count": 268,
   "metadata": {},
   "outputs": [
    {
     "data": {
      "text/plain": [
       "<Axes: >"
      ]
     },
     "execution_count": 268,
     "metadata": {},
     "output_type": "execute_result"
    },
    {
     "data": {
      "image/png": "[encoded data removed]",
      "text/plain": [
       "<Figure size 640x480 with 1 Axes>"
      ]
     },
     "metadata": {},
     "output_type": "display_data"
    }
   ],
   "source": [
    "sns.boxplot(data=data[\"Frequency\"])"
   ]
  },
  {
   "cell_type": "code",
   "execution_count": 269,
   "metadata": {},
   "outputs": [
    {
     "name": "stdout",
     "output_type": "stream",
     "text": [
      "1 0\n"
     ]
    }
   ],
   "source": [
    "print(\n",
    "    data[\"Frequency\"].max(),\n",
    "    data[\"Frequency\"].min(),\n",
    ")"
   ]
  },
  {
   "cell_type": "markdown",
   "metadata": {},
   "source": [
    "***Handling outliers in 8th column***"
   ]
  },
  {
   "cell_type": "code",
   "execution_count": 270,
   "metadata": {},
   "outputs": [
    {
     "name": "stdout",
     "output_type": "stream",
     "text": [
      "Furnishing\n"
     ]
    }
   ],
   "source": [
    "print(data.columns[7])"
   ]
  },
  {
   "cell_type": "code",
   "execution_count": 271,
   "metadata": {},
   "outputs": [
    {
     "data": {
      "text/plain": [
       "<Axes: >"
      ]
     },
     "execution_count": 271,
     "metadata": {},
     "output_type": "execute_result"
    },
    {
     "data": {
      "image/png": "[encoded data removed]",
      "text/plain": [
       "<Figure size 640x480 with 1 Axes>"
      ]
     },
     "metadata": {},
     "output_type": "display_data"
    }
   ],
   "source": [
    "sns.boxplot(data=data[\"Furnishing\"])"
   ]
  },
  {
   "cell_type": "markdown",
   "metadata": {},
   "source": [
    "***Handling outliers in 9th column***"
   ]
  },
  {
   "cell_type": "code",
   "execution_count": 272,
   "metadata": {},
   "outputs": [
    {
     "name": "stdout",
     "output_type": "stream",
     "text": [
      "Purpose\n"
     ]
    }
   ],
   "source": [
    "print(data.columns[8])"
   ]
  },
  {
   "cell_type": "code",
   "execution_count": 273,
   "metadata": {},
   "outputs": [
    {
     "data": {
      "text/plain": [
       "<Axes: >"
      ]
     },
     "execution_count": 273,
     "metadata": {},
     "output_type": "execute_result"
    },
    {
     "data": {
      "image/png": "[encoded data removed]",
      "text/plain": [
       "<Figure size 640x480 with 1 Axes>"
      ]
     },
     "metadata": {},
     "output_type": "display_data"
    }
   ],
   "source": [
    "sns.boxplot(data=data[\"Purpose\"])"
   ]
  },
  {
   "cell_type": "markdown",
   "metadata": {},
   "source": [
    "***Handling outliers in 10th column***"
   ]
  },
  {
   "cell_type": "code",
   "execution_count": 274,
   "metadata": {},
   "outputs": [
    {
     "name": "stdout",
     "output_type": "stream",
     "text": [
      "Posted_date\n"
     ]
    }
   ],
   "source": [
    "print(data.columns[9])"
   ]
  },
  {
   "cell_type": "code",
   "execution_count": 275,
   "metadata": {},
   "outputs": [
    {
     "data": {
      "text/plain": [
       "<Axes: >"
      ]
     },
     "execution_count": 275,
     "metadata": {},
     "output_type": "execute_result"
    },
    {
     "data": {
      "image/png": "[encoded data removed]",
      "text/plain": [
       "<Figure size 640x480 with 1 Axes>"
      ]
     },
     "metadata": {},
     "output_type": "display_data"
    }
   ],
   "source": [
    "sns.boxplot(data=data[\"Posted_date\"])"
   ]
  },
  {
   "cell_type": "code",
   "execution_count": 276,
   "metadata": {},
   "outputs": [
    {
     "name": "stdout",
     "output_type": "stream",
     "text": [
      "1.0 365.0\n",
      "8689\n"
     ]
    }
   ],
   "source": [
    "print(data[\"Posted_date\"].min(), data[\"Posted_date\"].max())\n",
    "num_date_outlin = (data[\"Posted_date\"] > 300).sum()\n",
    "print(num_date_outlin)"
   ]
  },
  {
   "cell_type": "code",
   "execution_count": 277,
   "metadata": {},
   "outputs": [
    {
     "name": "stdout",
     "output_type": "stream",
     "text": [
      "110.61815617211252\n"
     ]
    }
   ],
   "source": [
    "date_mean = data[\"Posted_date\"].mean()\n",
    "print(date_mean)"
   ]
  },
  {
   "cell_type": "code",
   "execution_count": 278,
   "metadata": {},
   "outputs": [
    {
     "name": "stderr",
     "output_type": "stream",
     "text": [
      "C:\\Users\\Dell\\AppData\\Local\\Temp\\ipykernel_8924\\932951741.py:1: SettingWithCopyWarning: \n",
      "A value is trying to be set on a copy of a slice from a DataFrame\n",
      "\n",
      "See the caveats in the documentation: https://pandas.pydata.org/pandas-docs/stable/user_guide/indexing.html#returning-a-view-versus-a-copy\n",
      "  data[\"Posted_date\"].loc[data[\"Posted_date\"] > 300] = date_mean\n"
     ]
    }
   ],
   "source": [
    "data[\"Posted_date\"].loc[data[\"Posted_date\"] > 300] = date_mean"
   ]
  },
  {
   "cell_type": "code",
   "execution_count": 279,
   "metadata": {},
   "outputs": [
    {
     "name": "stdout",
     "output_type": "stream",
     "text": [
      "0\n"
     ]
    }
   ],
   "source": [
    "print((data[\"Posted_date\"] > 300).sum())"
   ]
  },
  {
   "cell_type": "markdown",
   "metadata": {},
   "source": [
    "***Handling outliers in 11th column***"
   ]
  },
  {
   "cell_type": "code",
   "execution_count": 280,
   "metadata": {},
   "outputs": [
    {
     "name": "stdout",
     "output_type": "stream",
     "text": [
      "Age_of_listing_in_days\n"
     ]
    }
   ],
   "source": [
    "print(data.columns[10])"
   ]
  },
  {
   "cell_type": "code",
   "execution_count": 281,
   "metadata": {},
   "outputs": [
    {
     "data": {
      "text/plain": [
       "<Axes: >"
      ]
     },
     "execution_count": 281,
     "metadata": {},
     "output_type": "execute_result"
    },
    {
     "data": {
      "image/png": "[encoded data removed]",
      "text/plain": [
       "<Figure size 640x480 with 1 Axes>"
      ]
     },
     "metadata": {},
     "output_type": "display_data"
    }
   ],
   "source": [
    "sns.boxplot(data=data[\"Age_of_listing_in_days\"])"
   ]
  },
  {
   "cell_type": "code",
   "execution_count": 282,
   "metadata": {},
   "outputs": [
    {
     "name": "stdout",
     "output_type": "stream",
     "text": [
      "11 2276\n",
      "3314\n"
     ]
    }
   ],
   "source": [
    "print(data[\"Age_of_listing_in_days\"].min(),\n",
    "      data[\"Age_of_listing_in_days\"].max())\n",
    "num_age_outlier = (data[\"Age_of_listing_in_days\"] > 200).sum()\n",
    "print(num_age_outlier)"
   ]
  },
  {
   "cell_type": "code",
   "execution_count": 283,
   "metadata": {},
   "outputs": [
    {
     "name": "stdout",
     "output_type": "stream",
     "text": [
      "73.8847349465237\n"
     ]
    }
   ],
   "source": [
    "age_mean = data[\"Age_of_listing_in_days\"].mean()\n",
    "print(age_mean)"
   ]
  },
  {
   "cell_type": "code",
   "execution_count": 284,
   "metadata": {},
   "outputs": [
    {
     "name": "stderr",
     "output_type": "stream",
     "text": [
      "C:\\Users\\Dell\\AppData\\Local\\Temp\\ipykernel_8924\\2034864674.py:1: SettingWithCopyWarning: \n",
      "A value is trying to be set on a copy of a slice from a DataFrame\n",
      "\n",
      "See the caveats in the documentation: https://pandas.pydata.org/pandas-docs/stable/user_guide/indexing.html#returning-a-view-versus-a-copy\n",
      "  data[\"Age_of_listing_in_days\"].loc[data[\"Age_of_listing_in_days\"] > 200] = 200\n"
     ]
    }
   ],
   "source": [
    "data[\"Age_of_listing_in_days\"].loc[data[\"Age_of_listing_in_days\"] > 200] = 200"
   ]
  },
  {
   "cell_type": "code",
   "execution_count": 285,
   "metadata": {},
   "outputs": [
    {
     "name": "stdout",
     "output_type": "stream",
     "text": [
      "0\n"
     ]
    }
   ],
   "source": [
    "print((data[\"Age_of_listing_in_days\"] > 200).sum())"
   ]
  },
  {
   "cell_type": "markdown",
   "metadata": {},
   "source": [
    "***Handling outliers in 12th column***"
   ]
  },
  {
   "cell_type": "code",
   "execution_count": 286,
   "metadata": {},
   "outputs": [
    {
     "name": "stdout",
     "output_type": "stream",
     "text": [
      "Latitude\n"
     ]
    }
   ],
   "source": [
    "print(data.columns[11])"
   ]
  },
  {
   "cell_type": "code",
   "execution_count": 287,
   "metadata": {},
   "outputs": [
    {
     "data": {
      "text/plain": [
       "<Axes: >"
      ]
     },
     "execution_count": 287,
     "metadata": {},
     "output_type": "execute_result"
    },
    {
     "data": {
      "image/png": "[encoded data removed]",
      "text/plain": [
       "<Figure size 640x480 with 1 Axes>"
      ]
     },
     "metadata": {},
     "output_type": "display_data"
    }
   ],
   "source": [
    "sns.boxplot(data=data[\"Latitude\"])"
   ]
  },
  {
   "cell_type": "code",
   "execution_count": 288,
   "metadata": {},
   "outputs": [
    {
     "name": "stdout",
     "output_type": "stream",
     "text": [
      "15.175847 25.9203098\n"
     ]
    }
   ],
   "source": [
    "print(data[\"Latitude\"].min(), data[\"Latitude\"].max())"
   ]
  },
  {
   "cell_type": "markdown",
   "metadata": {},
   "source": [
    "***Handling outliers in 13th column***"
   ]
  },
  {
   "cell_type": "code",
   "execution_count": 289,
   "metadata": {},
   "outputs": [
    {
     "name": "stdout",
     "output_type": "stream",
     "text": [
      "Longitude\n"
     ]
    }
   ],
   "source": [
    "print(data.columns[12])"
   ]
  },
  {
   "cell_type": "code",
   "execution_count": 290,
   "metadata": {},
   "outputs": [
    {
     "data": {
      "text/plain": [
       "<Axes: >"
      ]
     },
     "execution_count": 290,
     "metadata": {},
     "output_type": "execute_result"
    },
    {
     "data": {
      "image/png": "[encoded data removed]",
      "text/plain": [
       "<Figure size 640x480 with 1 Axes>"
      ]
     },
     "metadata": {},
     "output_type": "display_data"
    }
   ],
   "source": [
    "sns.boxplot(data=data[\"Longitude\"])"
   ]
  },
  {
   "cell_type": "code",
   "execution_count": 291,
   "metadata": {},
   "outputs": [
    {
     "name": "stdout",
     "output_type": "stream",
     "text": [
      "43.351928 56.36129352186721\n"
     ]
    }
   ],
   "source": [
    "print(data[\"Longitude\"].min(), data[\"Longitude\"].max())"
   ]
  },
  {
   "cell_type": "markdown",
   "metadata": {},
   "source": [
    "***Handling outliers in 14th column***"
   ]
  },
  {
   "cell_type": "code",
   "execution_count": 292,
   "metadata": {},
   "outputs": [
    {
     "name": "stdout",
     "output_type": "stream",
     "text": [
      "Address\n"
     ]
    }
   ],
   "source": [
    "print(data.columns[13])"
   ]
  },
  {
   "cell_type": "code",
   "execution_count": 293,
   "metadata": {},
   "outputs": [
    {
     "data": {
      "text/plain": [
       "<Axes: >"
      ]
     },
     "execution_count": 293,
     "metadata": {},
     "output_type": "execute_result"
    },
    {
     "data": {
      "image/png": "[encoded data removed]",
      "text/plain": [
       "<Figure size 640x480 with 1 Axes>"
      ]
     },
     "metadata": {},
     "output_type": "display_data"
    }
   ],
   "source": [
    "sns.boxplot(data=data[\"Address\"])"
   ]
  },
  {
   "cell_type": "code",
   "execution_count": 294,
   "metadata": {},
   "outputs": [
    {
     "name": "stdout",
     "output_type": "stream",
     "text": [
      "2.006548904584799\n"
     ]
    }
   ],
   "source": [
    "address_mean = data[\"Address\"].mean()\n",
    "print(address_mean)"
   ]
  },
  {
   "cell_type": "code",
   "execution_count": 295,
   "metadata": {},
   "outputs": [
    {
     "name": "stdout",
     "output_type": "stream",
     "text": [
      "24210\n"
     ]
    }
   ],
   "source": [
    "num_outiers = (data[\"Address\"] > 2.5).sum() + (data[\"Address\"] < 1.7).sum()\n",
    "print(num_outiers)"
   ]
  },
  {
   "cell_type": "markdown",
   "metadata": {},
   "source": [
    "*replace outliers with mean*"
   ]
  },
  {
   "cell_type": "code",
   "execution_count": 296,
   "metadata": {},
   "outputs": [
    {
     "name": "stderr",
     "output_type": "stream",
     "text": [
      "C:\\Users\\Dell\\AppData\\Local\\Temp\\ipykernel_8924\\2041324948.py:1: SettingWithCopyWarning: \n",
      "A value is trying to be set on a copy of a slice from a DataFrame\n",
      "\n",
      "See the caveats in the documentation: https://pandas.pydata.org/pandas-docs/stable/user_guide/indexing.html#returning-a-view-versus-a-copy\n",
      "  data[\"Address\"].loc[data[\"Address\"] > 2.5] = address_mean\n",
      "C:\\Users\\Dell\\AppData\\Local\\Temp\\ipykernel_8924\\2041324948.py:2: SettingWithCopyWarning: \n",
      "A value is trying to be set on a copy of a slice from a DataFrame\n",
      "\n",
      "See the caveats in the documentation: https://pandas.pydata.org/pandas-docs/stable/user_guide/indexing.html#returning-a-view-versus-a-copy\n",
      "  data[\"Address\"].loc[data[\"Address\"] < 1.7] = address_mean\n"
     ]
    }
   ],
   "source": [
    "data[\"Address\"].loc[data[\"Address\"] > 2.5] = address_mean\n",
    "data[\"Address\"].loc[data[\"Address\"] < 1.7] = address_mean"
   ]
  },
  {
   "cell_type": "code",
   "execution_count": 297,
   "metadata": {},
   "outputs": [
    {
     "name": "stdout",
     "output_type": "stream",
     "text": [
      "0\n"
     ]
    }
   ],
   "source": [
    "# check outliers again\n",
    "num_outiers = (data[\"Address\"] > 2.5).sum() + (data[\"Address\"] < 1.7).sum()\n",
    "print(num_outiers)"
   ]
  },
  {
   "cell_type": "markdown",
   "metadata": {},
   "source": [
    "***Handling outliers in 15th column***"
   ]
  },
  {
   "cell_type": "code",
   "execution_count": 300,
   "metadata": {},
   "outputs": [
    {
     "name": "stdout",
     "output_type": "stream",
     "text": [
      "Type\n"
     ]
    }
   ],
   "source": [
    "print(data.columns[14])"
   ]
  },
  {
   "cell_type": "code",
   "execution_count": 301,
   "metadata": {},
   "outputs": [
    {
     "data": {
      "text/plain": [
       "<Axes: >"
      ]
     },
     "execution_count": 301,
     "metadata": {},
     "output_type": "execute_result"
    },
    {
     "data": {
      "image/png": "[encoded data removed]",
      "text/plain": [
       "<Figure size 640x480 with 1 Axes>"
      ]
     },
     "metadata": {},
     "output_type": "display_data"
    }
   ],
   "source": [
    "sns.boxplot(data=data[\"Type\"])"
   ]
  },
  {
   "cell_type": "markdown",
   "metadata": {},
   "source": [
    "***Handling outliers in 16th column***"
   ]
  },
  {
   "cell_type": "code",
   "execution_count": 303,
   "metadata": {},
   "outputs": [
    {
     "name": "stdout",
     "output_type": "stream",
     "text": [
      "Location\n"
     ]
    }
   ],
   "source": [
    "print(data.columns[15])"
   ]
  },
  {
   "cell_type": "code",
   "execution_count": 304,
   "metadata": {},
   "outputs": [
    {
     "data": {
      "text/plain": [
       "<Axes: >"
      ]
     },
     "execution_count": 304,
     "metadata": {},
     "output_type": "execute_result"
    },
    {
     "data": {
      "image/png": "[encoded data removed]",
      "text/plain": [
       "<Figure size 640x480 with 1 Axes>"
      ]
     },
     "metadata": {},
     "output_type": "display_data"
    }
   ],
   "source": [
    "sns.boxplot(data=data[\"Location\"])"
   ]
  },
  {
   "cell_type": "code",
   "execution_count": null,
   "metadata": {},
   "outputs": [],
   "source": []
  }
 ],
 "metadata": {
  "kernelspec": {
   "display_name": "Python 3",
   "language": "python",
   "name": "python3"
  },
  "language_info": {
   "codemirror_mode": {
    "name": "ipython",
    "version": 3
   },
   "file_extension": ".py",
   "mimetype": "text/x-python",
   "name": "python",
   "nbconvert_exporter": "python",
   "pygments_lexer": "ipython3",
   "version": "3.10.0"
  }
 },
 "nbformat": 4,
 "nbformat_minor": 2
}
