{
 "cells": [
  {
   "cell_type": "markdown",
   "metadata": {},
   "source": [
    "# **<center>Housing Category Classificasion Model</center>**"
   ]
  },
  {
   "cell_type": "code",
   "execution_count": 1,
   "metadata": {
    "metadata": {}
   },
   "outputs": [],
   "source": [
    "import numpy as np\n",
    "import pandas as pd"
   ]
  },
  {
   "cell_type": "markdown",
   "metadata": {},
   "source": [
    "***loading the dataset (Part 2)***"
   ]
  },
  {
   "cell_type": "code",
   "execution_count": 2,
   "metadata": {
    "metadata": {}
   },
   "outputs": [],
   "source": [
    "data = pd.read_csv(r\"dubai_properties.csv\")"
   ]
  },
  {
   "cell_type": "code",
   "execution_count": 3,
   "metadata": {
    "metadata": {}
   },
   "outputs": [
    {
     "name": "stdout",
     "output_type": "stream",
     "text": [
      "<class 'pandas.core.frame.DataFrame'>\n",
      "RangeIndex: 73742 entries, 0 to 73741\n",
      "Data columns (total 17 columns):\n",
      " #   Column                  Non-Null Count  Dtype  \n",
      "---  ------                  --------------  -----  \n",
      " 0   Address                 73742 non-null  object \n",
      " 1   Rent                    73742 non-null  int64  \n",
      " 2   Beds                    73742 non-null  int64  \n",
      " 3   Baths                   73742 non-null  int64  \n",
      " 4   Type                    73742 non-null  object \n",
      " 5   Area_in_sqft            73742 non-null  int64  \n",
      " 6   Rent_per_sqft           73742 non-null  float64\n",
      " 7   Rent_category           73742 non-null  object \n",
      " 8   Frequency               73742 non-null  object \n",
      " 9   Furnishing              73742 non-null  object \n",
      " 10  Purpose                 73742 non-null  object \n",
      " 11  Posted_date             73742 non-null  object \n",
      " 12  Age_of_listing_in_days  73742 non-null  int64  \n",
      " 13  Location                73742 non-null  object \n",
      " 14  City                    73742 non-null  object \n",
      " 15  Latitude                73023 non-null  float64\n",
      " 16  Longitude               73023 non-null  float64\n",
      "dtypes: float64(3), int64(5), object(9)\n",
      "memory usage: 9.6+ MB\n",
      "None\n"
     ]
    }
   ],
   "source": [
    "print(data.info())"
   ]
  },
  {
   "cell_type": "markdown",
   "metadata": {},
   "source": [
    "## ***Part 3 : Data Cleaning and Preprocessing***"
   ]
  },
  {
   "cell_type": "markdown",
   "metadata": {},
   "source": [
    "### ***Cleaning the null and duplicates***"
   ]
  },
  {
   "cell_type": "code",
   "execution_count": 4,
   "metadata": {
    "metadata": {}
   },
   "outputs": [
    {
     "name": "stdout",
     "output_type": "stream",
     "text": [
      "Address                     0\n",
      "Rent                        0\n",
      "Beds                        0\n",
      "Baths                       0\n",
      "Type                        0\n",
      "Area_in_sqft                0\n",
      "Rent_per_sqft               0\n",
      "Rent_category               0\n",
      "Frequency                   0\n",
      "Furnishing                  0\n",
      "Purpose                     0\n",
      "Posted_date                 0\n",
      "Age_of_listing_in_days      0\n",
      "Location                    0\n",
      "City                        0\n",
      "Latitude                  719\n",
      "Longitude                 719\n",
      "dtype: int64\n"
     ]
    }
   ],
   "source": [
    "print(data.isna().sum())"
   ]
  },
  {
   "cell_type": "markdown",
   "metadata": {},
   "source": [
    "***Removing null values***"
   ]
  },
  {
   "cell_type": "code",
   "execution_count": 5,
   "metadata": {
    "metadata": {}
   },
   "outputs": [
    {
     "name": "stdout",
     "output_type": "stream",
     "text": [
      "Address                   0\n",
      "Rent                      0\n",
      "Beds                      0\n",
      "Baths                     0\n",
      "Type                      0\n",
      "Area_in_sqft              0\n",
      "Rent_per_sqft             0\n",
      "Rent_category             0\n",
      "Frequency                 0\n",
      "Furnishing                0\n",
      "Purpose                   0\n",
      "Posted_date               0\n",
      "Age_of_listing_in_days    0\n",
      "Location                  0\n",
      "City                      0\n",
      "Latitude                  0\n",
      "Longitude                 0\n",
      "dtype: int64\n"
     ]
    }
   ],
   "source": [
    "data.dropna(inplace=True)\n",
    "print(data.isna().sum())"
   ]
  },
  {
   "cell_type": "markdown",
   "metadata": {},
   "source": [
    "***Cheking duplicated values***"
   ]
  },
  {
   "cell_type": "code",
   "execution_count": 6,
   "metadata": {
    "metadata": {}
   },
   "outputs": [
    {
     "name": "stdout",
     "output_type": "stream",
     "text": [
      "0\n"
     ]
    }
   ],
   "source": [
    "print(data.duplicated().sum())"
   ]
  },
  {
   "cell_type": "markdown",
   "metadata": {},
   "source": [
    "### ***Encoding***"
   ]
  },
  {
   "cell_type": "code",
   "execution_count": 7,
   "metadata": {
    "metadata": {}
   },
   "outputs": [
    {
     "name": "stdout",
     "output_type": "stream",
     "text": [
      "Address ['The Gate Tower 2, The Gate Tower, Shams Gate District, Shams Abu Dhabi, Al Reem Island, Abu Dhabi'\n",
      " \"Water's Edge, Yas Island, Abu Dhabi\"\n",
      " 'Al Raha Lofts, Al Raha Beach, Abu Dhabi' ...\n",
      " 'Umm Al Quwain Marina, Umm Al Quwain'\n",
      " 'Al Humrah B, Al Humrah, Umm Al Quwain'\n",
      " 'Al Huboob 1, Al Salamah, Umm Al Quwain']\n"
     ]
    },
    {
     "name": "stdout",
     "output_type": "stream",
     "text": [
      "Type ['Apartment' 'Penthouse' 'Villa' 'Townhouse' 'Villa Compound'\n",
      " 'Residential Building' 'Residential Floor' 'Hotel Apartment'\n",
      " 'Residential Plot']\n",
      "Rent_category ['Medium' 'High' 'Low']\n",
      "Frequency ['Yearly']\n",
      "Furnishing ['Unfurnished' 'Furnished']\n",
      "Purpose ['For Rent']\n",
      "Posted_date ['2024-03-07' '2024-03-08' '2024-03-21' '2024-02-24' '2024-02-16'\n",
      " '2023-12-12' '2024-03-11' '2024-02-22' '2024-04-05' '2023-01-29'\n",
      " '2024-03-25' '2024-03-22' '2024-04-02' '2024-03-18' '2024-03-14'\n",
      " '2023-12-01' '2024-02-27' '2024-03-29' '2024-02-28' '2024-03-30'\n",
      " '2024-02-15' '2024-02-13' '2024-04-06' '2024-01-15' '2024-02-06'\n",
      " '2023-12-18' '2024-02-04' '2023-12-05' '2023-11-23' '2024-01-11'\n",
      " '2023-11-21' '2023-11-07' '2023-10-23' '2023-10-31' '2023-12-07'\n",
      " '2024-03-17' '2024-01-29' '2024-03-04' '2024-02-07' '2024-01-16'\n",
      " '2024-04-09' '2024-04-07' '2024-02-23' '2024-02-03' '2024-04-08'\n",
      " '2023-03-24' '2024-04-04' '2024-04-03' '2024-03-23' '2023-10-03'\n",
      " '2023-10-04' '2024-04-01' '2022-09-19' '2024-03-31' '2023-09-28'\n",
      " '2024-01-23' '2024-03-27' '2024-03-28' '2024-03-15' '2023-11-03'\n",
      " '2024-03-26' '2023-09-24' '2024-03-24' '2023-09-20' '2024-03-20'\n",
      " '2024-01-07' '2023-09-14' '2024-03-16' '2024-03-19' '2023-03-09'\n",
      " '2023-10-15' '2023-09-10' '2023-06-16' '2023-03-21' '2023-09-13'\n",
      " '2024-03-13' '2023-09-08' '2023-12-16' '2024-02-11' '2024-02-12'\n",
      " '2023-10-11' '2024-03-12' '2023-09-09' '2023-08-04' '2024-01-25'\n",
      " '2024-03-09' '2023-11-08' '2024-02-21' '2024-03-10' '2023-09-11'\n",
      " '2024-03-03' '2024-03-05' '2024-01-27' '2024-03-02' '2023-08-17'\n",
      " '2024-02-01' '2024-03-06' '2024-03-01' '2023-11-01' '2024-02-25'\n",
      " '2024-02-26' '2024-02-29' '2024-02-19' '2023-09-04' '2024-02-17'\n",
      " '2024-02-20' '2023-08-22' '2024-02-09' '2023-02-13' '2024-02-18'\n",
      " '2024-02-08' '2024-02-05' '2023-07-28' '2024-02-02' '2024-01-31'\n",
      " '2023-08-02' '2023-10-19' '2022-08-23' '2023-09-25' '2023-07-17'\n",
      " '2024-01-17' '2024-01-26' '2024-01-19' '2023-07-15' '2024-01-22'\n",
      " '2024-01-18' '2023-11-02' '2024-01-24' '2024-01-12' '2024-01-10'\n",
      " '2023-10-16' '2023-12-26' '2023-09-26' '2024-01-09' '2024-01-08'\n",
      " '2023-12-30' '2023-10-20' '2023-12-28' '2024-01-03' '2024-02-14'\n",
      " '2024-01-05' '2023-08-20' '2024-01-04' '2023-12-25' '2023-12-17'\n",
      " '2023-12-10' '2023-12-15' '2023-12-11' '2023-12-22' '2023-10-06'\n",
      " '2023-10-09' '2023-05-29' '2023-12-27' '2023-12-03' '2023-12-13'\n",
      " '2023-11-30' '2023-11-26' '2023-11-24' '2023-12-06' '2023-11-29'\n",
      " '2023-11-22' '2022-12-28' '2023-11-20' '2023-11-16' '2023-11-12'\n",
      " '2023-11-18' '2023-11-14' '2023-11-05' '2023-06-20' '2023-10-28'\n",
      " '2023-10-26' '2023-11-13' '2023-12-20' '2023-10-30' '2023-10-12'\n",
      " '2023-11-27' '2023-10-05' '2023-11-17' '2023-11-25' '2023-11-10'\n",
      " '2023-11-15' '2023-11-04' '2023-10-22' '2023-10-21' '2023-12-09'\n",
      " '2023-05-02' '2024-01-14' '2024-04-10' '2024-01-21' '2023-08-19'\n",
      " '2023-04-10' '2023-09-30' '2023-09-21' '2023-04-07' '2023-04-04'\n",
      " '2023-07-20' '2023-10-25' '2023-11-06' '2023-03-20' '2023-03-23'\n",
      " '2023-10-01' '2023-09-22' '2023-08-11' '2023-03-14' '2023-10-13'\n",
      " '2023-10-18' '2023-12-14' '2023-09-06' '2023-08-09' '2023-07-21'\n",
      " '2022-08-06' '2023-10-17' '2024-01-02' '2023-12-24' '2023-05-23'\n",
      " '2024-01-13' '2023-11-19' '2023-04-03' '2022-08-10' '2023-03-02'\n",
      " '2023-08-21' '2023-09-18' '2023-03-11' '2023-09-12' '2023-09-07'\n",
      " '2023-08-29' '2023-01-10' '2023-08-23' '2024-02-10' '2023-12-31'\n",
      " '2023-08-03' '2024-01-30' '2023-10-14' '2024-01-28' '2024-01-06'\n",
      " '2024-01-20' '2023-12-21' '2023-08-31' '2023-07-03' '2023-12-23'\n",
      " '2023-07-19' '2023-06-21' '2023-12-08' '2023-11-28' '2023-09-16'\n",
      " '2023-09-19' '2023-05-04' '2023-06-13' '2023-10-29' '2023-06-08'\n",
      " '2023-07-02' '2023-10-02' '2023-02-07' '2023-10-27' '2023-08-28'\n",
      " '2023-09-03' '2023-08-26' '2023-09-01' '2023-01-27' '2023-08-27'\n",
      " '2023-08-13' '2023-08-12' '2023-08-24' '2023-07-30' '2023-08-10'\n",
      " '2023-07-31' '2023-07-29' '2023-12-19' '2023-12-29' '2023-10-08'\n",
      " '2023-05-10' '2022-10-17' '2023-10-07' '2023-09-27' '2023-09-29'\n",
      " '2023-09-23' '2023-03-31' '2023-11-09' '2023-10-24' '2023-11-11'\n",
      " '2023-09-17' '2023-03-29' '2023-04-19' '2023-08-06' '2023-01-11'\n",
      " '2023-03-25' '2023-09-15' '2023-08-05' '2023-03-15' '2023-08-30'\n",
      " '2023-09-05' '2023-08-25' '2023-09-02' '2023-08-08' '2023-03-08'\n",
      " '2023-03-05' '2023-07-12' '2023-03-13' '2023-03-01' '2023-03-07'\n",
      " '2022-09-13' '2023-03-03' '2023-04-24' '2023-04-13' '2023-04-25'\n",
      " '2023-08-18' '2023-08-16' '2022-08-19' '2023-08-14' '2023-01-28'\n",
      " '2023-08-15' '2023-02-05' '2022-08-28' '2023-01-25' '2023-12-04'\n",
      " '2023-08-07' '2023-01-31' '2023-07-18' '2023-02-16' '2023-07-27'\n",
      " '2023-03-16' '2023-08-01' '2023-07-24' '2023-01-20' '2023-07-25'\n",
      " '2023-07-22' '2023-07-26' '2023-07-16' '2023-01-23' '2023-02-12'\n",
      " '2023-02-21' '2023-06-09' '2022-08-03' '2023-07-14' '2023-01-24'\n",
      " '2023-07-10' '2023-07-04' '2023-07-13' '2023-07-23' '2023-07-09'\n",
      " '2023-07-08' '2023-02-04' '2023-07-11' '2023-07-05' '2022-07-16'\n",
      " '2023-03-06' '2024-01-01' '2023-10-10' '2023-07-06' '2023-07-01'\n",
      " '2023-07-07' '2023-06-27' '2023-02-08' '2023-06-10' '2023-06-26'\n",
      " '2022-12-30' '2023-02-01' '2023-06-17' '2023-06-15' '2023-06-12'\n",
      " '2023-06-23' '2023-06-22' '2023-06-19' '2023-06-18' '2023-06-05'\n",
      " '2023-06-03' '2023-05-30' '2023-06-25' '2023-06-02' '2023-05-17'\n",
      " '2023-05-31' '2023-06-30' '2023-06-01' '2023-05-25' '2022-11-24'\n",
      " '2023-12-02' '2023-06-07' '2023-06-06' '2022-12-06' '2023-06-11'\n",
      " '2022-09-28' '2023-05-22' '2023-05-19' '2023-05-28' '2023-05-07'\n",
      " '2022-01-16' '2022-11-21' '2023-05-27' '2023-05-26' '2023-05-16'\n",
      " '2023-05-09' '2023-05-05' '2023-05-06' '2023-05-01' '2023-05-11'\n",
      " '2022-12-08' '2023-05-14' '2022-11-07' '2023-05-18' '2023-05-08'\n",
      " '2023-05-03' '2023-05-15' '2023-06-14' '2022-10-31' '2022-11-12'\n",
      " '2023-05-12' '2022-12-13' '2023-04-27' '2023-04-26' '2023-04-14'\n",
      " '2023-04-17' '2022-10-04' '2023-06-04' '2023-04-29' '2023-03-10'\n",
      " '2022-11-10' '2022-12-11' '2023-01-18' '2022-10-11' '2023-05-24'\n",
      " '2022-09-23' '2023-04-28' '2023-06-29' '2022-10-01' '2022-12-14'\n",
      " '2023-01-03' '2022-11-04' '2020-06-03' '2023-04-06' '2023-03-18'\n",
      " '2023-04-12' '2022-10-30' '2022-09-26' '2023-02-28' '2023-01-16'\n",
      " '2023-01-04' '2022-12-23' '2023-04-08' '2022-12-31' '2022-04-13'\n",
      " '2022-04-16' '2022-04-21' '2023-04-18' '2023-05-21' '2022-10-23'\n",
      " '2022-10-19' '2022-10-03' '2022-11-26' '2022-11-03' '2023-04-23'\n",
      " '2023-03-22' '2022-09-08' '2023-03-04' '2023-02-20' '2022-10-27'\n",
      " '2022-08-12' '2023-02-06' '2022-12-25' '2022-12-24' '2023-06-24'\n",
      " '2022-05-19' '2022-05-16' '2023-05-20' '2022-11-09' '2022-04-01'\n",
      " '2022-09-25' '2022-10-10' '2022-07-12' '2022-09-07' '2023-02-10'\n",
      " '2022-11-22' '2021-11-07' '2022-10-05' '2023-02-22' '2023-02-23'\n",
      " '2021-12-28' '2021-03-17' '2021-12-20' '2023-01-12' '2022-11-14'\n",
      " '2021-03-18' '2022-10-06' '2022-11-08' '2023-02-27' '2023-03-28'\n",
      " '2022-03-26' '2022-12-19' '2022-11-16' '2023-01-30' '2022-12-17'\n",
      " '2019-07-17' '2022-03-13' '2022-10-18' '2020-12-10' '2022-03-03'\n",
      " '2022-01-05' '2022-10-15' '2018-01-27' '2022-04-18' '2022-12-15'\n",
      " '2022-11-17' '2022-03-20' '2022-08-30' '2023-04-01' '2023-02-14'\n",
      " '2023-01-13' '2021-09-04' '2021-08-30' '2020-06-20' '2022-08-18'\n",
      " '2023-01-26' '2021-07-08' '2021-07-11' '2022-07-21' '2020-11-22'\n",
      " '2023-02-11' '2022-06-08' '2019-05-29' '2021-10-24' '2021-10-20'\n",
      " '2021-11-10' '2022-08-26' '2023-04-15' '2022-06-02' '2023-03-30'\n",
      " '2022-07-19' '2020-03-21' '2021-10-23' '2022-06-26' '2021-07-07'\n",
      " '2021-03-06' '2022-09-20' '2022-10-21' '2022-05-10' '2022-06-04'\n",
      " '2022-06-27' '2022-06-28' '2023-01-07']\n",
      "Location ['Al Reem Island' 'Yas Island' 'Al Raha Beach' 'Al Bateen' 'Al Reef'\n",
      " 'The Marina' 'Al Khalidiyah' 'Al Raha Gardens' 'Mohammed Bin Zayed City'\n",
      " 'Shakhbout City' 'Madinat Al Riyadh' 'Corniche Area' 'Al Muroor'\n",
      " 'Zayed Sports City' 'Khalifa City' 'Hamdan Street' 'Al Bahia'\n",
      " 'Masdar City' 'Al Najda Street' 'Tourist Club Area (TCA)' 'Al Matar'\n",
      " 'Al Shamkha' 'Rawdhat Abu Dhabi' 'Al Ghadeer' 'Danet Abu Dhabi' 'Baniyas'\n",
      " 'Al Mushrif' 'Airport Street' 'Al Jubail Island' 'Al Hosn'\n",
      " 'Saadiyat Island' 'Corniche Road' 'Sheikh Khalifa Bin Zayed Street'\n",
      " 'Electra Street' 'Al Falah Street' 'Al Wahdah' 'Madinat Zayed' 'Rabdan'\n",
      " 'Al Rahba' 'Al Maqtaa' 'Capital Centre' 'Al Karamah' 'Al Markaziya'\n",
      " 'Defence Street' 'Al Nahyan' 'Between Two Bridges (Bain Al Jessrain)'\n",
      " 'Al Nasr Street' 'Al Zahraa' 'Al Muntazah' 'Al Zaab' 'Al Samha'\n",
      " 'Al Shawamekh' 'Hydra Village' 'Sas Al Nakhl Village' 'Al Zahiyah'\n",
      " 'Al Rawdah' 'Sheikh Rashid Bin Saeed Street' 'Al Maryah Island'\n",
      " 'Al Manhal' 'Zayed City' 'Al Aman' 'Al Shahama' 'Mussafah' 'Al Khubeirah'\n",
      " 'Al Mina' 'Al Falah City' 'Al Salam Street' 'Al Qurm' 'Al Ras Al Akhdar'\n",
      " 'Al Danah' 'Al Dhafrah' 'KIZAD' 'Al Wathba' 'Liwa Street' 'Muwaylih'\n",
      " 'Al Nahda' 'Al Yasmeen' 'Al Rawda' 'Al Zahya' 'Al Nuaimiya' 'Al Mowaihat'\n",
      " 'Al Sawan' 'Al Helio' 'Al Alia' 'Corniche Ajman' 'Ajman Downtown'\n",
      " 'Al Rashidiya' 'Al Nakhil' 'Al Jurf' 'Ajman Industrial' 'Al Hamidiyah'\n",
      " 'Garden City' 'Masfoot' 'Musherief' 'Al Zorah' 'Al Bustan'\n",
      " 'Emirates City' 'Al Rumaila' 'Sheikh Maktoum Bin Rashid Street'\n",
      " 'Ajman Free Zone' 'Al Tallah 2' 'Al Tallah 1' 'Al Ameera Village'\n",
      " 'Asharij' 'Al Marakhaniya' 'Shiab Al Ashkhar' 'Al Sarouj' 'Al Jimi'\n",
      " 'Al Tiwayya' 'Zakhir' 'Al Maqam' 'Al Jahili' 'Al Khibeesi' 'Al Hayer'\n",
      " 'Al Iqabiyyah' 'Central District' 'Hili' 'Al Rawdah Al Sharqiyah'\n",
      " 'Al Muwaiji' 'Al Yahar' 'Falaj Hazzaa' 'Al Mutarad' 'Al Sidrah' 'Neima'\n",
      " \"Al Mutaw'ah\" 'Al Dhahir' 'Al Qattara' 'Um Ghafah' \"Al Fou'ah\"\n",
      " 'Abu Samrah' 'Al Masoudi' 'Ghnaymah' 'Jumeirah Village Circle (JVC)'\n",
      " 'Dubai Hills Estate' 'Arabian Ranches 2' 'Dubai Silicon Oasis (DSO)'\n",
      " 'Dubai Sports City' 'Town Square' 'Meydan City' 'Dubai Creek Harbour'\n",
      " 'Dubai Harbour' 'Jumeirah Beach Residence (JBR)' 'Palm Jumeirah' 'Mirdif'\n",
      " 'DAMAC Hills 2 (Akoya by DAMAC)' 'Al Jaddaf' 'Dubailand'\n",
      " 'Jumeirah Golf Estates' 'Dubai South' 'Dubai Marina' 'Al Furjan'\n",
      " 'The Valley' 'Downtown Dubai' 'Arjan' 'Ras Al Khor' 'Reem' 'DAMAC Hills'\n",
      " 'Umm Suqeim' 'Jumeirah Heights' 'Mudon' 'Business Bay'\n",
      " 'Jumeirah Lake Towers (JLT)' 'Tilal Al Ghaf' \"Za'abeel\"\n",
      " 'Arabian Ranches 3' 'Motor City' 'The Views' 'The Meadows' 'Al Wasl'\n",
      " 'Jumeirah' 'Sheikh Zayed Road' 'Arabian Ranches' 'Jumeirah Park'\n",
      " 'Dubai Residence Complex' 'The Springs' 'Mohammed Bin Rashid City'\n",
      " 'Serena' 'Dubai Production City (IMPZ)' 'Nad Al Sheba' 'The Greens'\n",
      " 'Sobha Hartland' 'Bur Dubai' 'Dubai Studio City' 'Green Community'\n",
      " 'Jumeirah Islands' 'Jumeirah Village Triangle (JVT)' 'The Villa'\n",
      " 'Al Barari' 'Al Barsha' 'Al Nahda (Dubai)' 'DIFC' 'Liwan'\n",
      " 'Living Legends' 'Discovery Gardens' 'Barsha Heights (Tecom)' 'Al Karama'\n",
      " 'Remraam' 'Bluewaters Island' 'Dubai Media City' 'International City'\n",
      " 'The Lakes' 'City of Arabia' 'World Trade Centre' 'Bukadra'\n",
      " 'Dubai Festival City' 'Culture Village' 'Deira' 'Falcon City of Wonders'\n",
      " 'Al Safa' 'Majan' 'Liwan 2' 'Al Quoz' 'The Sustainable City'\n",
      " 'Umm Al Sheif' 'Jebel Ali' 'Nad Al Hamar' 'Al Warqaa' 'Al Qusais'\n",
      " 'Al Awir' 'Al Satwa' 'The Hills' 'Muhaisnah' 'Al Khawaneej' 'The Gardens'\n",
      " 'Expo City' 'Dubai Investment Park (DIP)' 'Dubai Waterfront'\n",
      " 'Dubai Industrial City' 'Dubai Internet City' 'Al Sufouh'\n",
      " 'Dubai Maritime City' 'Emirates Hills' 'Al Warsan' 'Al Badaa' 'Al Mizhar'\n",
      " 'Al Jafiliya' 'Al Garhoud' 'Wasl Gate' 'Al Mamzar' 'Wadi Al Shabak'\n",
      " 'Al Hudaiba' 'Pearl Jumeirah' 'Al Manara' 'Wadi Al Safa 2' 'Al Twar'\n",
      " 'Hadaeq Sheikh Mohammed Bin Rashid' 'Knowledge Village' 'Umm Ramool'\n",
      " 'Al Hebiah 2' 'Al Lisaili' 'Oud Al Muteena' 'Fujairah Tower'\n",
      " 'Fujairah Freezone' 'Dibba' 'Tawyeen' 'Mirbah'\n",
      " 'Address Fujairah Beach Resort' 'Sakamkam' 'Al Marjan Island'\n",
      " 'Al Hamra Village' 'Al Nakheel' 'Mina Al Arab' 'Al Qusaidat'\n",
      " 'The Cove Rotana Resort' 'Dafan Al Nakheel' 'Rak City' 'Al Seer'\n",
      " 'Yasmin Village' 'Al Mairid' 'Al Dhait' 'Khuzam' 'Dafan Al Khor'\n",
      " 'Seih Al Uraibi' 'Sidroh' 'Al Uraibi' 'Wadi Ammar' 'Dahan' 'Al Ghubb'\n",
      " 'Al Nudood' 'Al Kharran' 'Julfar' 'Al Sharisha' 'Al Rams' 'Aljada'\n",
      " 'Al Khan' 'Muwaileh' 'Al Nahda (Sharjah)' 'Al Tai' 'Al Taawun'\n",
      " 'Muwailih Commercial' 'Al Majaz' 'Al Wahda Street' 'Industrial Area'\n",
      " 'Al Qasimia' 'Tilal City' 'Al Rahmaniya' 'Sharqan' 'Al Qasba' 'Al Fisht'\n",
      " 'Abu Shagara' 'Al Mujarrah' 'Barashi' 'Al Mareija' 'Al Dhaid'\n",
      " 'Al Ramaqiya' 'Al Nabba' 'Al Sharq' 'Al Nasserya' 'Rolla Area'\n",
      " 'Al Ghuwair' 'Al Ramtha' 'Um Tarafa' 'Bu Tina' 'Al Mahatah' 'Al Musalla'\n",
      " 'Al Soor' 'Al Ramla' 'Al Falaj' 'Al Jazzat' 'Maysaloon' 'Al Nekhailat'\n",
      " 'Al Mansoura' 'Hoshi' 'Al Abar' 'Al Fayha' 'Samnan' 'Al Yarmook'\n",
      " 'Al Jubail' 'Al Noaf' 'Al Sajaa' 'Al Shahba' 'Al Manakh' 'Khor Fakkan'\n",
      " 'Al Ghafia' 'Al Sabkha' 'Kalba' 'Dasman' 'Al Darari' 'Al Juraina'\n",
      " 'Sharjah University City' 'Al Gharb' 'Al Sajaa Industrial' 'Al Tay East'\n",
      " 'Al Mirgab' 'Al Riqaibah' 'Al Rifa' 'Al Ghubaiba' 'Al Riqqa Suburb'\n",
      " 'Al Yash' 'Al Bataeh' 'Al Ramlah' 'Al Butain' 'Al Salamah' 'Al Abraq 1'\n",
      " 'Al Qarayen' 'Old Town Area' 'Umm Al Quwain Marina' 'Al Hawiyah'\n",
      " 'Al Humrah']\n",
      "City ['Abu Dhabi' 'Ajman' 'Al Ain' 'Dubai' 'Fujairah' 'Ras Al Khaimah'\n",
      " 'Sharjah' 'Umm Al Quwain']\n"
     ]
    }
   ],
   "source": [
    "obj_columns = data.select_dtypes(include=[\"object\"]).columns\n",
    "for col in obj_columns:\n",
    "    uniques = data[col].unique()\n",
    "    print(col, uniques)"
   ]
  },
  {
   "cell_type": "code",
   "execution_count": 8,
   "metadata": {
    "metadata": {}
   },
   "outputs": [],
   "source": [
    "columns_to_label_encoding = [\"Rent_category\", \"Frequency\", \"Furnishing\", \"Purpose\"]\n",
    "\n",
    "\n",
    "\n",
    "columns_to_categorical_encoding = [\"Address\", \"Type\", \"Location\", \"City\"]"
   ]
  },
  {
   "cell_type": "markdown",
   "metadata": {},
   "source": [
    "***Label Encoding***"
   ]
  },
  {
   "cell_type": "code",
   "execution_count": 9,
   "metadata": {
    "metadata": {}
   },
   "outputs": [],
   "source": [
    "from sklearn.preprocessing import LabelEncoder"
   ]
  },
  {
   "cell_type": "code",
   "execution_count": 10,
   "metadata": {
    "metadata": {}
   },
   "outputs": [],
   "source": [
    "label_encoder = LabelEncoder()\n",
    "for col in columns_to_label_encoding:\n",
    "    data[col] = label_encoder.fit_transform(data[col])"
   ]
  },
  {
   "cell_type": "code",
   "execution_count": 11,
   "metadata": {
    "metadata": {}
   },
   "outputs": [
    {
     "name": "stdout",
     "output_type": "stream",
     "text": [
      "Rent_category [2 0 1]\n",
      "Frequency [0]\n",
      "Furnishing [1 0]\n",
      "Purpose [0]\n"
     ]
    }
   ],
   "source": [
    "for col in columns_to_label_encoding:\n",
    "    print(col, data[col].unique())"
   ]
  },
  {
   "cell_type": "markdown",
   "metadata": {},
   "source": [
    "***Date Encoding*** *using (ordinal encoder)*"
   ]
  },
  {
   "cell_type": "code",
   "execution_count": 12,
   "metadata": {
    "metadata": {}
   },
   "outputs": [],
   "source": [
    "data[\"Posted_date\"] = pd.to_datetime(\n",
    "    data[\"Posted_date\"], format=\"%Y-%m-%d\", errors=\"coerce\"\n",
    ").dt.day_of_year"
   ]
  },
  {
   "cell_type": "code",
   "execution_count": 13,
   "metadata": {
    "metadata": {}
   },
   "outputs": [
    {
     "data": {
      "text/plain": [
       "0         67\n",
       "1         68\n",
       "2         81\n",
       "3         55\n",
       "4         47\n",
       "        ... \n",
       "73729    343\n",
       "73734    335\n",
       "73735     86\n",
       "73737    348\n",
       "73738    348\n",
       "Name: Posted_date, Length: 73023, dtype: int32"
      ]
     },
     "execution_count": 13,
     "metadata": {},
     "output_type": "execute_result"
    }
   ],
   "source": [
    "data[\"Posted_date\"]"
   ]
  },
  {
   "cell_type": "markdown",
   "metadata": {},
   "source": [
    "***Categorical Ecoding*** *(Target encoder)*"
   ]
  },
  {
   "cell_type": "code",
   "execution_count": 14,
   "metadata": {
    "metadata": {}
   },
   "outputs": [],
   "source": [
    "# type this command in terminal: pip install category_encoders\n",
    "import category_encoders as ce"
   ]
  },
  {
   "cell_type": "code",
   "execution_count": 15,
   "metadata": {
    "metadata": {}
   },
   "outputs": [],
   "source": [
    "encoder = ce.TargetEncoder(cols=columns_to_categorical_encoding)\n",
    "data_encoded = encoder.fit_transform(\n",
    "    data[columns_to_categorical_encoding], data[\"Rent_category\"]\n",
    ")\n",
    "\n",
    "data = pd.concat(\n",
    "    [data.drop(columns=columns_to_categorical_encoding), data_encoded], axis=1\n",
    ")"
   ]
  },
  {
   "cell_type": "code",
   "execution_count": 16,
   "metadata": {
    "metadata": {}
   },
   "outputs": [
    {
     "data": {
      "text/html": [
       "<div>\n",
       "<style scoped>\n",
       "    .dataframe tbody tr th:only-of-type {\n",
       "        vertical-align: middle;\n",
       "    }\n",
       "\n",
       "    .dataframe tbody tr th {\n",
       "        vertical-align: top;\n",
       "    }\n",
       "\n",
       "    .dataframe thead th {\n",
       "        text-align: right;\n",
       "    }\n",
       "</style>\n",
       "<table border=\"1\" class=\"dataframe\">\n",
       "  <thead>\n",
       "    <tr style=\"text-align: right;\">\n",
       "      <th></th>\n",
       "      <th>Address</th>\n",
       "      <th>Type</th>\n",
       "      <th>Location</th>\n",
       "      <th>City</th>\n",
       "    </tr>\n",
       "  </thead>\n",
       "  <tbody>\n",
       "    <tr>\n",
       "      <th>0</th>\n",
       "      <td>1.657879</td>\n",
       "      <td>1.124855</td>\n",
       "      <td>1.542257</td>\n",
       "      <td>1.129055</td>\n",
       "    </tr>\n",
       "    <tr>\n",
       "      <th>1</th>\n",
       "      <td>1.492669</td>\n",
       "      <td>1.124855</td>\n",
       "      <td>0.676570</td>\n",
       "      <td>1.129055</td>\n",
       "    </tr>\n",
       "    <tr>\n",
       "      <th>2</th>\n",
       "      <td>1.579157</td>\n",
       "      <td>1.124855</td>\n",
       "      <td>1.183628</td>\n",
       "      <td>1.129055</td>\n",
       "    </tr>\n",
       "    <tr>\n",
       "      <th>3</th>\n",
       "      <td>1.233044</td>\n",
       "      <td>0.345865</td>\n",
       "      <td>1.542257</td>\n",
       "      <td>1.129055</td>\n",
       "    </tr>\n",
       "    <tr>\n",
       "      <th>4</th>\n",
       "      <td>0.026813</td>\n",
       "      <td>0.664384</td>\n",
       "      <td>0.676570</td>\n",
       "      <td>1.129055</td>\n",
       "    </tr>\n",
       "    <tr>\n",
       "      <th>...</th>\n",
       "      <td>...</td>\n",
       "      <td>...</td>\n",
       "      <td>...</td>\n",
       "      <td>...</td>\n",
       "    </tr>\n",
       "    <tr>\n",
       "      <th>73729</th>\n",
       "      <td>1.064120</td>\n",
       "      <td>1.124855</td>\n",
       "      <td>1.061601</td>\n",
       "      <td>1.026556</td>\n",
       "    </tr>\n",
       "    <tr>\n",
       "      <th>73734</th>\n",
       "      <td>1.058366</td>\n",
       "      <td>0.664384</td>\n",
       "      <td>1.036987</td>\n",
       "      <td>1.026556</td>\n",
       "    </tr>\n",
       "    <tr>\n",
       "      <th>73735</th>\n",
       "      <td>1.006878</td>\n",
       "      <td>1.124855</td>\n",
       "      <td>1.048763</td>\n",
       "      <td>1.026556</td>\n",
       "    </tr>\n",
       "    <tr>\n",
       "      <th>73737</th>\n",
       "      <td>1.007076</td>\n",
       "      <td>1.124855</td>\n",
       "      <td>1.061601</td>\n",
       "      <td>1.026556</td>\n",
       "    </tr>\n",
       "    <tr>\n",
       "      <th>73738</th>\n",
       "      <td>1.006878</td>\n",
       "      <td>1.124855</td>\n",
       "      <td>1.048763</td>\n",
       "      <td>1.026556</td>\n",
       "    </tr>\n",
       "  </tbody>\n",
       "</table>\n",
       "<p>73023 rows × 4 columns</p>\n",
       "</div>"
      ],
      "text/plain": [
       "        Address      Type  Location      City\n",
       "0      1.657879  1.124855  1.542257  1.129055\n",
       "1      1.492669  1.124855  0.676570  1.129055\n",
       "2      1.579157  1.124855  1.183628  1.129055\n",
       "3      1.233044  0.345865  1.542257  1.129055\n",
       "4      0.026813  0.664384  0.676570  1.129055\n",
       "...         ...       ...       ...       ...\n",
       "73729  1.064120  1.124855  1.061601  1.026556\n",
       "73734  1.058366  0.664384  1.036987  1.026556\n",
       "73735  1.006878  1.124855  1.048763  1.026556\n",
       "73737  1.007076  1.124855  1.061601  1.026556\n",
       "73738  1.006878  1.124855  1.048763  1.026556\n",
       "\n",
       "[73023 rows x 4 columns]"
      ]
     },
     "execution_count": 16,
     "metadata": {},
     "output_type": "execute_result"
    }
   ],
   "source": [
    "data[columns_to_categorical_encoding]"
   ]
  },
  {
   "cell_type": "markdown",
   "metadata": {},
   "source": [
    "### ***Handling Outilers***"
   ]
  },
  {
   "cell_type": "code",
   "execution_count": 17,
   "metadata": {
    "metadata": {}
   },
   "outputs": [],
   "source": [
    "import seaborn as sns"
   ]
  },
  {
   "cell_type": "markdown",
   "metadata": {},
   "source": [
    "***Handling outliers in 1st column***"
   ]
  },
  {
   "cell_type": "code",
   "execution_count": 18,
   "metadata": {
    "metadata": {}
   },
   "outputs": [
    {
     "name": "stdout",
     "output_type": "stream",
     "text": [
      "Rent\n"
     ]
    }
   ],
   "source": [
    "print(data.columns[0])"
   ]
  },
  {
   "cell_type": "code",
   "execution_count": 19,
   "metadata": {
    "metadata": {}
   },
   "outputs": [
    {
     "data": {
      "text/plain": [
       "<Axes: >"
      ]
     },
     "execution_count": 19,
     "metadata": {},
     "output_type": "execute_result"
    },
    {
     "data": {
      "image/png": "[encoded data removed]",
      "text/plain": [
       "<Figure size 640x480 with 1 Axes>"
      ]
     },
     "metadata": {},
     "output_type": "display_data"
    }
   ],
   "source": [
    "sns.set_style(\"darkgrid\")\n",
    "sns.boxplot(data=data[\"Rent\"])"
   ]
  },
  {
   "cell_type": "code",
   "execution_count": 20,
   "metadata": {
    "metadata": {}
   },
   "outputs": [
    {
     "name": "stdout",
     "output_type": "stream",
     "text": [
      "3\n"
     ]
    }
   ],
   "source": [
    "num_rent_outiers = (data[\"Rent\"] > 1e7).sum()\n",
    "print(num_rent_outiers)"
   ]
  },
  {
   "cell_type": "code",
   "execution_count": 21,
   "metadata": {
    "metadata": {}
   },
   "outputs": [
    {
     "name": "stdout",
     "output_type": "stream",
     "text": [
      "148372.3144625666\n",
      "0 55000000\n"
     ]
    }
   ],
   "source": [
    "rent_mean = data[\"Rent\"].mean()\n",
    "print(rent_mean)\n",
    "print(data[\"Rent\"].min(), data[\"Rent\"].max())"
   ]
  },
  {
   "cell_type": "code",
   "execution_count": 22,
   "metadata": {
    "metadata": {}
   },
   "outputs": [
    {
     "name": "stderr",
     "output_type": "stream",
     "text": [
      "C:\\Users\\Dell\\AppData\\Local\\Temp\\ipykernel_9636\\4270086156.py:1: SettingWithCopyWarning: \n",
      "A value is trying to be set on a copy of a slice from a DataFrame\n",
      "\n",
      "See the caveats in the documentation: https://pandas.pydata.org/pandas-docs/stable/user_guide/indexing.html#returning-a-view-versus-a-copy\n",
      "  data[\"Rent\"].loc[data[\"Rent\"] > 1e7] = 1e7\n"
     ]
    }
   ],
   "source": [
    "data[\"Rent\"].loc[data[\"Rent\"] > 1e7] = 1e7"
   ]
  },
  {
   "cell_type": "code",
   "execution_count": 23,
   "metadata": {
    "metadata": {}
   },
   "outputs": [
    {
     "name": "stdout",
     "output_type": "stream",
     "text": [
      "0\n"
     ]
    }
   ],
   "source": [
    "# check outliers again\n",
    "num_rent_outiers = (data[\"Rent\"] > 1e7).sum()\n",
    "print(num_rent_outiers)"
   ]
  },
  {
   "cell_type": "markdown",
   "metadata": {},
   "source": [
    "***Handling outliers in 2nd column***"
   ]
  },
  {
   "cell_type": "code",
   "execution_count": 24,
   "metadata": {
    "metadata": {}
   },
   "outputs": [
    {
     "name": "stdout",
     "output_type": "stream",
     "text": [
      "Beds\n"
     ]
    }
   ],
   "source": [
    "print(data.columns[1])"
   ]
  },
  {
   "cell_type": "code",
   "execution_count": 25,
   "metadata": {
    "metadata": {}
   },
   "outputs": [
    {
     "data": {
      "text/plain": [
       "<Axes: >"
      ]
     },
     "execution_count": 25,
     "metadata": {},
     "output_type": "execute_result"
    },
    {
     "data": {
      "image/png": "[encoded data removed]",
      "text/plain": [
       "<Figure size 640x480 with 1 Axes>"
      ]
     },
     "metadata": {},
     "output_type": "display_data"
    }
   ],
   "source": [
    "sns.boxplot(data=data[\"Beds\"])"
   ]
  },
  {
   "cell_type": "code",
   "execution_count": 26,
   "metadata": {
    "metadata": {}
   },
   "outputs": [
    {
     "name": "stdout",
     "output_type": "stream",
     "text": [
      "0 12\n"
     ]
    }
   ],
   "source": [
    "print(data[\"Beds\"].min(), data[\"Beds\"].max())"
   ]
  },
  {
   "cell_type": "markdown",
   "metadata": {},
   "source": [
    "***Handling outliers in 3rd column***"
   ]
  },
  {
   "cell_type": "code",
   "execution_count": 27,
   "metadata": {
    "metadata": {}
   },
   "outputs": [
    {
     "name": "stdout",
     "output_type": "stream",
     "text": [
      "Baths\n"
     ]
    }
   ],
   "source": [
    "print(data.columns[2])"
   ]
  },
  {
   "cell_type": "code",
   "execution_count": 28,
   "metadata": {
    "metadata": {}
   },
   "outputs": [
    {
     "data": {
      "text/plain": [
       "<Axes: >"
      ]
     },
     "execution_count": 28,
     "metadata": {},
     "output_type": "execute_result"
    },
    {
     "data": {
      "image/png": "[encoded data removed]",
      "text/plain": [
       "<Figure size 640x480 with 1 Axes>"
      ]
     },
     "metadata": {},
     "output_type": "display_data"
    }
   ],
   "source": [
    "sns.boxplot(data=data[\"Baths\"])"
   ]
  },
  {
   "cell_type": "code",
   "execution_count": 29,
   "metadata": {
    "metadata": {}
   },
   "outputs": [
    {
     "name": "stdout",
     "output_type": "stream",
     "text": [
      "201\n"
     ]
    }
   ],
   "source": [
    "num_baths_outiers = (data[\"Baths\"] > 10).sum()\n",
    "print(num_baths_outiers)"
   ]
  },
  {
   "cell_type": "code",
   "execution_count": 30,
   "metadata": {
    "metadata": {}
   },
   "outputs": [
    {
     "name": "stdout",
     "output_type": "stream",
     "text": [
      "11\n"
     ]
    }
   ],
   "source": [
    "print((data[\"Baths\"]).max())"
   ]
  },
  {
   "cell_type": "markdown",
   "metadata": {},
   "source": [
    "***Handling outliers in 4th column***"
   ]
  },
  {
   "cell_type": "code",
   "execution_count": 31,
   "metadata": {
    "metadata": {}
   },
   "outputs": [
    {
     "name": "stdout",
     "output_type": "stream",
     "text": [
      "Area_in_sqft\n"
     ]
    }
   ],
   "source": [
    "print(data.columns[3])"
   ]
  },
  {
   "cell_type": "code",
   "execution_count": 32,
   "metadata": {
    "metadata": {}
   },
   "outputs": [
    {
     "data": {
      "text/plain": [
       "<Axes: >"
      ]
     },
     "execution_count": 32,
     "metadata": {},
     "output_type": "execute_result"
    },
    {
     "data": {
      "image/png": "[encoded data removed]",
      "text/plain": [
       "<Figure size 640x480 with 1 Axes>"
      ]
     },
     "metadata": {},
     "output_type": "display_data"
    }
   ],
   "source": [
    "sns.boxplot(data=data[\"Area_in_sqft\"])"
   ]
  },
  {
   "cell_type": "code",
   "execution_count": 33,
   "metadata": {
    "metadata": {}
   },
   "outputs": [
    {
     "name": "stdout",
     "output_type": "stream",
     "text": [
      "2035.6344713309504\n"
     ]
    }
   ],
   "source": [
    "area_mean = (data[\"Area_in_sqft\"]).mean()\n",
    "print(area_mean)"
   ]
  },
  {
   "cell_type": "code",
   "execution_count": 34,
   "metadata": {
    "metadata": {}
   },
   "outputs": [
    {
     "name": "stdout",
     "output_type": "stream",
     "text": [
      "1171\n"
     ]
    }
   ],
   "source": [
    "num_area_outiers = (data[\"Area_in_sqft\"] > 10000).sum()\n",
    "print(num_area_outiers)"
   ]
  },
  {
   "cell_type": "code",
   "execution_count": 35,
   "metadata": {
    "metadata": {}
   },
   "outputs": [
    {
     "data": {
      "text/plain": [
       "210254"
      ]
     },
     "execution_count": 35,
     "metadata": {},
     "output_type": "execute_result"
    }
   ],
   "source": [
    "(data[\"Area_in_sqft\"]).max()"
   ]
  },
  {
   "cell_type": "code",
   "execution_count": 36,
   "metadata": {
    "metadata": {}
   },
   "outputs": [
    {
     "name": "stderr",
     "output_type": "stream",
     "text": [
      "C:\\Users\\Dell\\AppData\\Local\\Temp\\ipykernel_9636\\1008635694.py:1: SettingWithCopyWarning: \n",
      "A value is trying to be set on a copy of a slice from a DataFrame\n",
      "\n",
      "See the caveats in the documentation: https://pandas.pydata.org/pandas-docs/stable/user_guide/indexing.html#returning-a-view-versus-a-copy\n",
      "  data[\"Area_in_sqft\"].loc[data[\"Area_in_sqft\"] > 10000] = 10000\n"
     ]
    }
   ],
   "source": [
    "data[\"Area_in_sqft\"].loc[data[\"Area_in_sqft\"] > 10000] = 10000"
   ]
  },
  {
   "cell_type": "code",
   "execution_count": 37,
   "metadata": {
    "metadata": {}
   },
   "outputs": [
    {
     "name": "stdout",
     "output_type": "stream",
     "text": [
      "0\n"
     ]
    }
   ],
   "source": [
    "# check outliers again\n",
    "num_outiers = (data[\"Area_in_sqft\"] > 10000).sum()\n",
    "print(num_outiers)"
   ]
  },
  {
   "cell_type": "markdown",
   "metadata": {},
   "source": [
    "***Handling outliers in 5th column***"
   ]
  },
  {
   "cell_type": "code",
   "execution_count": 38,
   "metadata": {
    "metadata": {}
   },
   "outputs": [
    {
     "name": "stdout",
     "output_type": "stream",
     "text": [
      "Rent_per_sqft\n"
     ]
    }
   ],
   "source": [
    "print(data.columns[4])"
   ]
  },
  {
   "cell_type": "code",
   "execution_count": 39,
   "metadata": {
    "metadata": {}
   },
   "outputs": [
    {
     "data": {
      "text/plain": [
       "<Axes: >"
      ]
     },
     "execution_count": 39,
     "metadata": {},
     "output_type": "execute_result"
    },
    {
     "data": {
      "image/png": "[encoded data removed]",
      "text/plain": [
       "<Figure size 640x480 with 1 Axes>"
      ]
     },
     "metadata": {},
     "output_type": "display_data"
    }
   ],
   "source": [
    "sns.boxplot(data=data[\"Rent_per_sqft\"])"
   ]
  },
  {
   "cell_type": "code",
   "execution_count": 40,
   "metadata": {
    "metadata": {}
   },
   "outputs": [
    {
     "name": "stdout",
     "output_type": "stream",
     "text": [
      "1154\n"
     ]
    }
   ],
   "source": [
    "num_rent_sqft_outliears = (data[\"Rent_per_sqft\"] > 280).sum()\n",
    "print(num_rent_sqft_outliears)"
   ]
  },
  {
   "cell_type": "code",
   "execution_count": 41,
   "metadata": {
    "metadata": {}
   },
   "outputs": [
    {
     "name": "stderr",
     "output_type": "stream",
     "text": [
      "C:\\Users\\Dell\\AppData\\Local\\Temp\\ipykernel_9636\\84417510.py:1: SettingWithCopyWarning: \n",
      "A value is trying to be set on a copy of a slice from a DataFrame\n",
      "\n",
      "See the caveats in the documentation: https://pandas.pydata.org/pandas-docs/stable/user_guide/indexing.html#returning-a-view-versus-a-copy\n",
      "  data[\"Rent_per_sqft\"].loc[data[\"Rent_per_sqft\"] > 280] = 280\n"
     ]
    }
   ],
   "source": [
    "data[\"Rent_per_sqft\"].loc[data[\"Rent_per_sqft\"] > 280] = 280"
   ]
  },
  {
   "cell_type": "code",
   "execution_count": 42,
   "metadata": {
    "metadata": {}
   },
   "outputs": [
    {
     "name": "stdout",
     "output_type": "stream",
     "text": [
      "0\n"
     ]
    }
   ],
   "source": [
    "# check num outliers again\n",
    "num_rent_sqft_outliears = (data[\"Rent_per_sqft\"] > 280).sum()\n",
    "print(num_rent_sqft_outliears)"
   ]
  },
  {
   "cell_type": "markdown",
   "metadata": {},
   "source": [
    "***Handling outliers in 6th column***"
   ]
  },
  {
   "cell_type": "code",
   "execution_count": 43,
   "metadata": {
    "metadata": {}
   },
   "outputs": [
    {
     "name": "stdout",
     "output_type": "stream",
     "text": [
      "Rent_category\n"
     ]
    }
   ],
   "source": [
    "print(data.columns[5])"
   ]
  },
  {
   "cell_type": "code",
   "execution_count": 44,
   "metadata": {
    "metadata": {}
   },
   "outputs": [
    {
     "data": {
      "text/plain": [
       "<Axes: >"
      ]
     },
     "execution_count": 44,
     "metadata": {},
     "output_type": "execute_result"
    },
    {
     "data": {
      "image/png": "[encoded data removed]",
      "text/plain": [
       "<Figure size 640x480 with 1 Axes>"
      ]
     },
     "metadata": {},
     "output_type": "display_data"
    }
   ],
   "source": [
    "sns.boxplot(data=data[\"Rent_category\"])"
   ]
  },
  {
   "cell_type": "markdown",
   "metadata": {},
   "source": [
    "***Handling outliers in 7th column***"
   ]
  },
  {
   "cell_type": "code",
   "execution_count": 45,
   "metadata": {
    "metadata": {}
   },
   "outputs": [
    {
     "name": "stdout",
     "output_type": "stream",
     "text": [
      "Frequency\n"
     ]
    }
   ],
   "source": [
    "print(data.columns[6])"
   ]
  },
  {
   "cell_type": "code",
   "execution_count": 46,
   "metadata": {
    "metadata": {}
   },
   "outputs": [
    {
     "data": {
      "text/plain": [
       "<Axes: >"
      ]
     },
     "execution_count": 46,
     "metadata": {},
     "output_type": "execute_result"
    },
    {
     "data": {
      "image/png": "[encoded data removed]",
      "text/plain": [
       "<Figure size 640x480 with 1 Axes>"
      ]
     },
     "metadata": {},
     "output_type": "display_data"
    }
   ],
   "source": [
    "sns.boxplot(data=data[\"Frequency\"])"
   ]
  },
  {
   "cell_type": "code",
   "execution_count": 47,
   "metadata": {
    "metadata": {}
   },
   "outputs": [
    {
     "name": "stdout",
     "output_type": "stream",
     "text": [
      "0 0\n"
     ]
    }
   ],
   "source": [
    "print(\n",
    "    data[\"Frequency\"].max(),\n",
    "    data[\"Frequency\"].min(),\n",
    ")"
   ]
  },
  {
   "cell_type": "markdown",
   "metadata": {},
   "source": [
    "***Handling outliers in 8th column***"
   ]
  },
  {
   "cell_type": "code",
   "execution_count": 48,
   "metadata": {
    "metadata": {}
   },
   "outputs": [
    {
     "name": "stdout",
     "output_type": "stream",
     "text": [
      "Furnishing\n"
     ]
    }
   ],
   "source": [
    "print(data.columns[7])"
   ]
  },
  {
   "cell_type": "code",
   "execution_count": 49,
   "metadata": {
    "metadata": {}
   },
   "outputs": [
    {
     "data": {
      "text/plain": [
       "<Axes: >"
      ]
     },
     "execution_count": 49,
     "metadata": {},
     "output_type": "execute_result"
    },
    {
     "data": {
      "image/png": "[encoded data removed]",
      "text/plain": [
       "<Figure size 640x480 with 1 Axes>"
      ]
     },
     "metadata": {},
     "output_type": "display_data"
    }
   ],
   "source": [
    "sns.boxplot(data=data[\"Furnishing\"])"
   ]
  },
  {
   "cell_type": "markdown",
   "metadata": {},
   "source": [
    "***Handling outliers in 9th column***"
   ]
  },
  {
   "cell_type": "code",
   "execution_count": 50,
   "metadata": {
    "metadata": {}
   },
   "outputs": [
    {
     "name": "stdout",
     "output_type": "stream",
     "text": [
      "Purpose\n"
     ]
    }
   ],
   "source": [
    "print(data.columns[8])"
   ]
  },
  {
   "cell_type": "code",
   "execution_count": 51,
   "metadata": {
    "metadata": {}
   },
   "outputs": [
    {
     "data": {
      "text/plain": [
       "<Axes: >"
      ]
     },
     "execution_count": 51,
     "metadata": {},
     "output_type": "execute_result"
    },
    {
     "data": {
      "image/png": "[encoded data removed]",
      "text/plain": [
       "<Figure size 640x480 with 1 Axes>"
      ]
     },
     "metadata": {},
     "output_type": "display_data"
    }
   ],
   "source": [
    "sns.boxplot(data=data[\"Purpose\"])"
   ]
  },
  {
   "cell_type": "markdown",
   "metadata": {},
   "source": [
    "***Handling outliers in 10th column***"
   ]
  },
  {
   "cell_type": "code",
   "execution_count": 52,
   "metadata": {
    "metadata": {}
   },
   "outputs": [
    {
     "name": "stdout",
     "output_type": "stream",
     "text": [
      "Posted_date\n"
     ]
    }
   ],
   "source": [
    "print(data.columns[9])"
   ]
  },
  {
   "cell_type": "code",
   "execution_count": 53,
   "metadata": {
    "metadata": {}
   },
   "outputs": [
    {
     "data": {
      "text/plain": [
       "<Axes: >"
      ]
     },
     "execution_count": 53,
     "metadata": {},
     "output_type": "execute_result"
    },
    {
     "data": {
      "image/png": "[encoded data removed]",
      "text/plain": [
       "<Figure size 640x480 with 1 Axes>"
      ]
     },
     "metadata": {},
     "output_type": "display_data"
    }
   ],
   "source": [
    "sns.boxplot(data=data[\"Posted_date\"])"
   ]
  },
  {
   "cell_type": "code",
   "execution_count": 54,
   "metadata": {
    "metadata": {}
   },
   "outputs": [
    {
     "name": "stdout",
     "output_type": "stream",
     "text": [
      "1 365\n",
      "8689\n"
     ]
    }
   ],
   "source": [
    "print(data[\"Posted_date\"].min(), data[\"Posted_date\"].max())\n",
    "num_date_outlin = (data[\"Posted_date\"] > 300).sum()\n",
    "print(num_date_outlin)"
   ]
  },
  {
   "cell_type": "code",
   "execution_count": 55,
   "metadata": {
    "metadata": {}
   },
   "outputs": [
    {
     "name": "stdout",
     "output_type": "stream",
     "text": [
      "110.61766840584474\n"
     ]
    }
   ],
   "source": [
    "date_mean = data[\"Posted_date\"].mean()\n",
    "print(date_mean)"
   ]
  },
  {
   "cell_type": "code",
   "execution_count": 56,
   "metadata": {
    "metadata": {}
   },
   "outputs": [
    {
     "name": "stderr",
     "output_type": "stream",
     "text": [
      "C:\\Users\\Dell\\AppData\\Local\\Temp\\ipykernel_9636\\932951741.py:1: SettingWithCopyWarning: \n",
      "A value is trying to be set on a copy of a slice from a DataFrame\n",
      "\n",
      "See the caveats in the documentation: https://pandas.pydata.org/pandas-docs/stable/user_guide/indexing.html#returning-a-view-versus-a-copy\n",
      "  data[\"Posted_date\"].loc[data[\"Posted_date\"] > 300] = date_mean\n"
     ]
    }
   ],
   "source": [
    "data[\"Posted_date\"].loc[data[\"Posted_date\"] > 300] = date_mean"
   ]
  },
  {
   "cell_type": "code",
   "execution_count": 57,
   "metadata": {
    "metadata": {}
   },
   "outputs": [
    {
     "name": "stdout",
     "output_type": "stream",
     "text": [
      "0\n"
     ]
    }
   ],
   "source": [
    "print((data[\"Posted_date\"] > 300).sum())"
   ]
  },
  {
   "cell_type": "markdown",
   "metadata": {},
   "source": [
    "***Handling outliers in 11th column***"
   ]
  },
  {
   "cell_type": "code",
   "execution_count": 58,
   "metadata": {
    "metadata": {}
   },
   "outputs": [
    {
     "name": "stdout",
     "output_type": "stream",
     "text": [
      "Age_of_listing_in_days\n"
     ]
    }
   ],
   "source": [
    "print(data.columns[10])"
   ]
  },
  {
   "cell_type": "code",
   "execution_count": 59,
   "metadata": {
    "metadata": {}
   },
   "outputs": [
    {
     "data": {
      "text/plain": [
       "<Axes: >"
      ]
     },
     "execution_count": 59,
     "metadata": {},
     "output_type": "execute_result"
    },
    {
     "data": {
      "image/png": "[encoded data removed]",
      "text/plain": [
       "<Figure size 640x480 with 1 Axes>"
      ]
     },
     "metadata": {},
     "output_type": "display_data"
    }
   ],
   "source": [
    "sns.boxplot(data=data[\"Age_of_listing_in_days\"])"
   ]
  },
  {
   "cell_type": "code",
   "execution_count": 60,
   "metadata": {
    "metadata": {}
   },
   "outputs": [
    {
     "name": "stdout",
     "output_type": "stream",
     "text": [
      "11 2276\n",
      "3314\n"
     ]
    }
   ],
   "source": [
    "print(data[\"Age_of_listing_in_days\"].min(), data[\"Age_of_listing_in_days\"].max())\n",
    "\n",
    "\n",
    "\n",
    "num_age_outlier = (data[\"Age_of_listing_in_days\"] > 200).sum()\n",
    "\n",
    "\n",
    "\n",
    "print(num_age_outlier)"
   ]
  },
  {
   "cell_type": "code",
   "execution_count": 61,
   "metadata": {
    "metadata": {}
   },
   "outputs": [
    {
     "name": "stdout",
     "output_type": "stream",
     "text": [
      "73.8847349465237\n"
     ]
    }
   ],
   "source": [
    "age_mean = data[\"Age_of_listing_in_days\"].mean()\n",
    "print(age_mean)"
   ]
  },
  {
   "cell_type": "code",
   "execution_count": 62,
   "metadata": {
    "metadata": {}
   },
   "outputs": [
    {
     "name": "stderr",
     "output_type": "stream",
     "text": [
      "C:\\Users\\Dell\\AppData\\Local\\Temp\\ipykernel_9636\\2034864674.py:1: SettingWithCopyWarning: \n",
      "A value is trying to be set on a copy of a slice from a DataFrame\n",
      "\n",
      "See the caveats in the documentation: https://pandas.pydata.org/pandas-docs/stable/user_guide/indexing.html#returning-a-view-versus-a-copy\n",
      "  data[\"Age_of_listing_in_days\"].loc[data[\"Age_of_listing_in_days\"] > 200] = 200\n"
     ]
    }
   ],
   "source": [
    "data[\"Age_of_listing_in_days\"].loc[data[\"Age_of_listing_in_days\"] > 200] = 200"
   ]
  },
  {
   "cell_type": "code",
   "execution_count": 63,
   "metadata": {
    "metadata": {}
   },
   "outputs": [
    {
     "name": "stdout",
     "output_type": "stream",
     "text": [
      "0\n"
     ]
    }
   ],
   "source": [
    "print((data[\"Age_of_listing_in_days\"] > 200).sum())"
   ]
  },
  {
   "cell_type": "markdown",
   "metadata": {},
   "source": [
    "***Handling outliers in 12th column***"
   ]
  },
  {
   "cell_type": "code",
   "execution_count": 64,
   "metadata": {
    "metadata": {}
   },
   "outputs": [
    {
     "name": "stdout",
     "output_type": "stream",
     "text": [
      "Latitude\n"
     ]
    }
   ],
   "source": [
    "print(data.columns[11])"
   ]
  },
  {
   "cell_type": "code",
   "execution_count": 65,
   "metadata": {
    "metadata": {}
   },
   "outputs": [
    {
     "data": {
      "text/plain": [
       "<Axes: >"
      ]
     },
     "execution_count": 65,
     "metadata": {},
     "output_type": "execute_result"
    },
    {
     "data": {
      "image/png": "[encoded data removed]",
      "text/plain": [
       "<Figure size 640x480 with 1 Axes>"
      ]
     },
     "metadata": {},
     "output_type": "display_data"
    }
   ],
   "source": [
    "sns.boxplot(data=data[\"Latitude\"])"
   ]
  },
  {
   "cell_type": "code",
   "execution_count": 66,
   "metadata": {
    "metadata": {}
   },
   "outputs": [
    {
     "name": "stdout",
     "output_type": "stream",
     "text": [
      "15.175847 25.9203098\n"
     ]
    }
   ],
   "source": [
    "print(data[\"Latitude\"].min(), data[\"Latitude\"].max())"
   ]
  },
  {
   "cell_type": "markdown",
   "metadata": {},
   "source": [
    "***Handling outliers in 13th column***"
   ]
  },
  {
   "cell_type": "code",
   "execution_count": 67,
   "metadata": {
    "metadata": {}
   },
   "outputs": [
    {
     "name": "stdout",
     "output_type": "stream",
     "text": [
      "Longitude\n"
     ]
    }
   ],
   "source": [
    "print(data.columns[12])"
   ]
  },
  {
   "cell_type": "code",
   "execution_count": 68,
   "metadata": {
    "metadata": {}
   },
   "outputs": [
    {
     "data": {
      "text/plain": [
       "<Axes: >"
      ]
     },
     "execution_count": 68,
     "metadata": {},
     "output_type": "execute_result"
    },
    {
     "data": {
      "image/png": "[encoded data removed]",
      "text/plain": [
       "<Figure size 640x480 with 1 Axes>"
      ]
     },
     "metadata": {},
     "output_type": "display_data"
    }
   ],
   "source": [
    "sns.boxplot(data=data[\"Longitude\"])"
   ]
  },
  {
   "cell_type": "code",
   "execution_count": 69,
   "metadata": {
    "metadata": {}
   },
   "outputs": [
    {
     "name": "stdout",
     "output_type": "stream",
     "text": [
      "43.351928 56.36129352186721\n"
     ]
    }
   ],
   "source": [
    "print(data[\"Longitude\"].min(), data[\"Longitude\"].max())"
   ]
  },
  {
   "cell_type": "markdown",
   "metadata": {},
   "source": [
    "***Handling outliers in 14th column***"
   ]
  },
  {
   "cell_type": "code",
   "execution_count": 70,
   "metadata": {
    "metadata": {}
   },
   "outputs": [
    {
     "name": "stdout",
     "output_type": "stream",
     "text": [
      "Address\n"
     ]
    }
   ],
   "source": [
    "print(data.columns[13])"
   ]
  },
  {
   "cell_type": "code",
   "execution_count": 71,
   "metadata": {
    "metadata": {}
   },
   "outputs": [
    {
     "data": {
      "text/plain": [
       "<Axes: >"
      ]
     },
     "execution_count": 71,
     "metadata": {},
     "output_type": "execute_result"
    },
    {
     "data": {
      "image/png": "[encoded data removed]",
      "text/plain": [
       "<Figure size 640x480 with 1 Axes>"
      ]
     },
     "metadata": {},
     "output_type": "display_data"
    }
   ],
   "source": [
    "sns.boxplot(data=data[\"Address\"])"
   ]
  },
  {
   "cell_type": "code",
   "execution_count": 72,
   "metadata": {
    "metadata": {}
   },
   "outputs": [
    {
     "name": "stdout",
     "output_type": "stream",
     "text": [
      "1.0065925402621323\n"
     ]
    }
   ],
   "source": [
    "address_mean = data[\"Address\"].mean()\n",
    "print(address_mean)"
   ]
  },
  {
   "cell_type": "code",
   "execution_count": 73,
   "metadata": {
    "metadata": {}
   },
   "outputs": [
    {
     "name": "stdout",
     "output_type": "stream",
     "text": [
      "68787\n"
     ]
    }
   ],
   "source": [
    "num_outiers = (data[\"Address\"] > 2.5).sum() + (data[\"Address\"] < 1.7).sum()\n",
    "print(num_outiers)"
   ]
  },
  {
   "cell_type": "markdown",
   "metadata": {},
   "source": [
    "*replace outliers with mean*"
   ]
  },
  {
   "cell_type": "code",
   "execution_count": 74,
   "metadata": {
    "metadata": {}
   },
   "outputs": [
    {
     "name": "stderr",
     "output_type": "stream",
     "text": [
      "C:\\Users\\Dell\\AppData\\Local\\Temp\\ipykernel_9636\\2041324948.py:1: SettingWithCopyWarning: \n",
      "A value is trying to be set on a copy of a slice from a DataFrame\n",
      "\n",
      "See the caveats in the documentation: https://pandas.pydata.org/pandas-docs/stable/user_guide/indexing.html#returning-a-view-versus-a-copy\n",
      "  data[\"Address\"].loc[data[\"Address\"] > 2.5] = address_mean\n",
      "C:\\Users\\Dell\\AppData\\Local\\Temp\\ipykernel_9636\\2041324948.py:2: SettingWithCopyWarning: \n",
      "A value is trying to be set on a copy of a slice from a DataFrame\n",
      "\n",
      "See the caveats in the documentation: https://pandas.pydata.org/pandas-docs/stable/user_guide/indexing.html#returning-a-view-versus-a-copy\n",
      "  data[\"Address\"].loc[data[\"Address\"] < 1.7] = address_mean\n"
     ]
    }
   ],
   "source": [
    "data[\"Address\"].loc[data[\"Address\"] > 2.5] = address_mean\n",
    "data[\"Address\"].loc[data[\"Address\"] < 1.7] = address_mean"
   ]
  },
  {
   "cell_type": "code",
   "execution_count": 75,
   "metadata": {
    "metadata": {}
   },
   "outputs": [
    {
     "name": "stdout",
     "output_type": "stream",
     "text": [
      "68787\n"
     ]
    }
   ],
   "source": [
    "# check outliers again\n",
    "num_outiers = (data[\"Address\"] > 2.5).sum() + (data[\"Address\"] < 1.7).sum()\n",
    "print(num_outiers)"
   ]
  },
  {
   "cell_type": "markdown",
   "metadata": {},
   "source": [
    "***Handling outliers in 15th column***"
   ]
  },
  {
   "cell_type": "code",
   "execution_count": 76,
   "metadata": {
    "metadata": {}
   },
   "outputs": [
    {
     "name": "stdout",
     "output_type": "stream",
     "text": [
      "Type\n"
     ]
    }
   ],
   "source": [
    "print(data.columns[14])"
   ]
  },
  {
   "cell_type": "code",
   "execution_count": 77,
   "metadata": {
    "metadata": {}
   },
   "outputs": [
    {
     "data": {
      "text/plain": [
       "<Axes: >"
      ]
     },
     "execution_count": 77,
     "metadata": {},
     "output_type": "execute_result"
    },
    {
     "data": {
      "image/png": "[encoded data removed]",
      "text/plain": [
       "<Figure size 640x480 with 1 Axes>"
      ]
     },
     "metadata": {},
     "output_type": "display_data"
    }
   ],
   "source": [
    "sns.boxplot(data=data[\"Type\"])"
   ]
  },
  {
   "cell_type": "code",
   "execution_count": 78,
   "metadata": {
    "metadata": {}
   },
   "outputs": [
    {
     "name": "stdout",
     "output_type": "stream",
     "text": [
      "0.12552322676377933 1.1248553060388582\n"
     ]
    }
   ],
   "source": [
    "print(data[\"Type\"].min(), data[\"Type\"].max())"
   ]
  },
  {
   "cell_type": "markdown",
   "metadata": {},
   "source": [
    "***Handling outliers in 16th column***"
   ]
  },
  {
   "cell_type": "code",
   "execution_count": 79,
   "metadata": {
    "metadata": {}
   },
   "outputs": [
    {
     "name": "stdout",
     "output_type": "stream",
     "text": [
      "Location\n"
     ]
    }
   ],
   "source": [
    "print(data.columns[15])"
   ]
  },
  {
   "cell_type": "code",
   "execution_count": 80,
   "metadata": {
    "metadata": {}
   },
   "outputs": [
    {
     "data": {
      "text/plain": [
       "<Axes: >"
      ]
     },
     "execution_count": 80,
     "metadata": {},
     "output_type": "execute_result"
    },
    {
     "data": {
      "image/png": "[encoded data removed]",
      "text/plain": [
       "<Figure size 640x480 with 1 Axes>"
      ]
     },
     "metadata": {},
     "output_type": "display_data"
    }
   ],
   "source": [
    "sns.boxplot(data=data[\"Location\"])"
   ]
  },
  {
   "cell_type": "code",
   "execution_count": 81,
   "metadata": {
    "metadata": {}
   },
   "outputs": [
    {
     "name": "stdout",
     "output_type": "stream",
     "text": [
      "5.137353698804655e-11 1.9594095940839868\n"
     ]
    }
   ],
   "source": [
    "print(data[\"Location\"].min(), data[\"Location\"].max())"
   ]
  },
  {
   "cell_type": "markdown",
   "metadata": {},
   "source": [
    "***Handling outliers in 17th column***"
   ]
  },
  {
   "cell_type": "code",
   "execution_count": 82,
   "metadata": {
    "metadata": {}
   },
   "outputs": [
    {
     "name": "stdout",
     "output_type": "stream",
     "text": [
      "City\n"
     ]
    }
   ],
   "source": [
    "print(data.columns[16])"
   ]
  },
  {
   "cell_type": "code",
   "execution_count": 83,
   "metadata": {
    "metadata": {}
   },
   "outputs": [
    {
     "data": {
      "text/plain": [
       "<Axes: >"
      ]
     },
     "execution_count": 83,
     "metadata": {},
     "output_type": "execute_result"
    },
    {
     "data": {
      "image/png": "[encoded data removed]",
      "text/plain": [
       "<Figure size 640x480 with 1 Axes>"
      ]
     },
     "metadata": {},
     "output_type": "display_data"
    }
   ],
   "source": [
    "sns.boxplot(data=data[\"City\"])"
   ]
  },
  {
   "cell_type": "code",
   "execution_count": 84,
   "metadata": {
    "metadata": {}
   },
   "outputs": [
    {
     "name": "stdout",
     "output_type": "stream",
     "text": [
      "0.8481253105000146 1.315038893690579\n"
     ]
    }
   ],
   "source": [
    "print(data[\"City\"].min(), data[\"City\"].max())"
   ]
  },
  {
   "cell_type": "markdown",
   "metadata": {},
   "source": [
    "### ***Scaling***"
   ]
  },
  {
   "cell_type": "code",
   "execution_count": 85,
   "metadata": {
    "metadata": {}
   },
   "outputs": [
    {
     "name": "stdout",
     "output_type": "stream",
     "text": [
      "Index(['Rent', 'Beds', 'Baths', 'Area_in_sqft', 'Rent_per_sqft',\n",
      "       'Rent_category', 'Frequency', 'Furnishing', 'Purpose', 'Posted_date',\n",
      "       'Age_of_listing_in_days', 'Latitude', 'Longitude', 'Address', 'Type',\n",
      "       'Location', 'City'],\n",
      "      dtype='object')\n"
     ]
    }
   ],
   "source": [
    "print(data.columns)"
   ]
  },
  {
   "cell_type": "code",
   "execution_count": 86,
   "metadata": {
    "metadata": {}
   },
   "outputs": [],
   "source": [
    "colums_to_scaling = [\n",
    "    \"Beds\",\n",
    "    \"Baths\",\n",
    "    \"Area_in_sqft\",\n",
    "    \"Rent_per_sqft\",\n",
    "    \"Furnishing\",\n",
    "    \"Posted_date\",\n",
    "    \"Age_of_listing_in_days\",\n",
    "    \"Latitude\",\n",
    "    \"Longitude\",\n",
    "    \"Address\",\n",
    "]"
   ]
  },
  {
   "cell_type": "code",
   "execution_count": 87,
   "metadata": {
    "metadata": {}
   },
   "outputs": [],
   "source": [
    "from sklearn.preprocessing import MinMaxScaler"
   ]
  },
  {
   "cell_type": "code",
   "execution_count": 88,
   "metadata": {
    "metadata": {}
   },
   "outputs": [
    {
     "data": {
      "text/html": [
       "<style>#sk-container-id-1 {color: black;}#sk-container-id-1 pre{padding: 0;}#sk-container-id-1 div.sk-toggleable {background-color: white;}#sk-container-id-1 label.sk-toggleable__label {cursor: pointer;display: block;width: 100%;margin-bottom: 0;padding: 0.3em;box-sizing: border-box;text-align: center;}#sk-container-id-1 label.sk-toggleable__label-arrow:before {content: \"▸\";float: left;margin-right: 0.25em;color: #696969;}#sk-container-id-1 label.sk-toggleable__label-arrow:hover:before {color: black;}#sk-container-id-1 div.sk-estimator:hover label.sk-toggleable__label-arrow:before {color: black;}#sk-container-id-1 div.sk-toggleable__content {max-height: 0;max-width: 0;overflow: hidden;text-align: left;background-color: #f0f8ff;}#sk-container-id-1 div.sk-toggleable__content pre {margin: 0.2em;color: black;border-radius: 0.25em;background-color: #f0f8ff;}#sk-container-id-1 input.sk-toggleable__control:checked~div.sk-toggleable__content {max-height: 200px;max-width: 100%;overflow: auto;}#sk-container-id-1 input.sk-toggleable__control:checked~label.sk-toggleable__label-arrow:before {content: \"▾\";}#sk-container-id-1 div.sk-estimator input.sk-toggleable__control:checked~label.sk-toggleable__label {background-color: #d4ebff;}#sk-container-id-1 div.sk-label input.sk-toggleable__control:checked~label.sk-toggleable__label {background-color: #d4ebff;}#sk-container-id-1 input.sk-hidden--visually {border: 0;clip: rect(1px 1px 1px 1px);clip: rect(1px, 1px, 1px, 1px);height: 1px;margin: -1px;overflow: hidden;padding: 0;position: absolute;width: 1px;}#sk-container-id-1 div.sk-estimator {font-family: monospace;background-color: #f0f8ff;border: 1px dotted black;border-radius: 0.25em;box-sizing: border-box;margin-bottom: 0.5em;}#sk-container-id-1 div.sk-estimator:hover {background-color: #d4ebff;}#sk-container-id-1 div.sk-parallel-item::after {content: \"\";width: 100%;border-bottom: 1px solid gray;flex-grow: 1;}#sk-container-id-1 div.sk-label:hover label.sk-toggleable__label {background-color: #d4ebff;}#sk-container-id-1 div.sk-serial::before {content: \"\";position: absolute;border-left: 1px solid gray;box-sizing: border-box;top: 0;bottom: 0;left: 50%;z-index: 0;}#sk-container-id-1 div.sk-serial {display: flex;flex-direction: column;align-items: center;background-color: white;padding-right: 0.2em;padding-left: 0.2em;position: relative;}#sk-container-id-1 div.sk-item {position: relative;z-index: 1;}#sk-container-id-1 div.sk-parallel {display: flex;align-items: stretch;justify-content: center;background-color: white;position: relative;}#sk-container-id-1 div.sk-item::before, #sk-container-id-1 div.sk-parallel-item::before {content: \"\";position: absolute;border-left: 1px solid gray;box-sizing: border-box;top: 0;bottom: 0;left: 50%;z-index: -1;}#sk-container-id-1 div.sk-parallel-item {display: flex;flex-direction: column;z-index: 1;position: relative;background-color: white;}#sk-container-id-1 div.sk-parallel-item:first-child::after {align-self: flex-end;width: 50%;}#sk-container-id-1 div.sk-parallel-item:last-child::after {align-self: flex-start;width: 50%;}#sk-container-id-1 div.sk-parallel-item:only-child::after {width: 0;}#sk-container-id-1 div.sk-dashed-wrapped {border: 1px dashed gray;margin: 0 0.4em 0.5em 0.4em;box-sizing: border-box;padding-bottom: 0.4em;background-color: white;}#sk-container-id-1 div.sk-label label {font-family: monospace;font-weight: bold;display: inline-block;line-height: 1.2em;}#sk-container-id-1 div.sk-label-container {text-align: center;}#sk-container-id-1 div.sk-container {/* jupyter's `normalize.less` sets `[hidden] { display: none; }` but bootstrap.min.css set `[hidden] { display: none !important; }` so we also need the `!important` here to be able to override the default hidden behavior on the sphinx rendered scikit-learn.org. See: https://github.com/scikit-learn/scikit-learn/issues/21755 */display: inline-block !important;position: relative;}#sk-container-id-1 div.sk-text-repr-fallback {display: none;}</style><div id=\"sk-container-id-1\" class=\"sk-top-container\"><div class=\"sk-text-repr-fallback\"><pre>MinMaxScaler(feature_range=(1, 2))</pre><b>In a Jupyter environment, please rerun this cell to show the HTML representation or trust the notebook. <br />On GitHub, the HTML representation is unable to render, please try loading this page with nbviewer.org.</b></div><div class=\"sk-container\" hidden><div class=\"sk-item\"><div class=\"sk-estimator sk-toggleable\"><input class=\"sk-toggleable__control sk-hidden--visually\" id=\"sk-estimator-id-1\" type=\"checkbox\" checked><label for=\"sk-estimator-id-1\" class=\"sk-toggleable__label sk-toggleable__label-arrow\">MinMaxScaler</label><div class=\"sk-toggleable__content\"><pre>MinMaxScaler(feature_range=(1, 2))</pre></div></div></div></div></div>"
      ],
      "text/plain": [
       "MinMaxScaler(feature_range=(1, 2))"
      ]
     },
     "execution_count": 88,
     "metadata": {},
     "output_type": "execute_result"
    }
   ],
   "source": [
    "scaler = MinMaxScaler(feature_range=(1, 2))\n",
    "scaler.fit(data[colums_to_scaling])"
   ]
  },
  {
   "cell_type": "code",
   "execution_count": 89,
   "metadata": {
    "metadata": {}
   },
   "outputs": [
    {
     "data": {
      "text/plain": [
       "array([[1.25      , 1.3       , 1.17237558, ..., 1.86721426, 1.84984256,\n",
       "        1.        ],\n",
       "       [1.25      , 1.3       , 1.13580496, ..., 1.86725372, 1.8651801 ,\n",
       "        1.        ],\n",
       "       [1.16666667, 1.2       , 1.12492444, ..., 1.86650065, 1.86468562,\n",
       "        1.        ],\n",
       "       ...,\n",
       "       [1.16666667, 1.1       , 1.09329035, ..., 1.96348344, 1.94198285,\n",
       "        1.        ],\n",
       "       [1.        , 1.        , 1.0347572 , ..., 1.96026806, 1.93963585,\n",
       "        1.        ],\n",
       "       [1.        , 1.        , 1.04291759, ..., 1.96348344, 1.94198285,\n",
       "        1.        ]])"
      ]
     },
     "execution_count": 89,
     "metadata": {},
     "output_type": "execute_result"
    }
   ],
   "source": [
    "scaler.fit_transform(data[colums_to_scaling])"
   ]
  },
  {
   "cell_type": "code",
   "execution_count": 90,
   "metadata": {
    "metadata": {}
   },
   "outputs": [],
   "source": [
    "data[colums_to_scaling] = scaler.transform(data[colums_to_scaling])"
   ]
  },
  {
   "cell_type": "code",
   "execution_count": 91,
   "metadata": {
    "metadata": {}
   },
   "outputs": [
    {
     "data": {
      "text/html": [
       "<div>\n",
       "<style scoped>\n",
       "    .dataframe tbody tr th:only-of-type {\n",
       "        vertical-align: middle;\n",
       "    }\n",
       "\n",
       "    .dataframe tbody tr th {\n",
       "        vertical-align: top;\n",
       "    }\n",
       "\n",
       "    .dataframe thead th {\n",
       "        text-align: right;\n",
       "    }\n",
       "</style>\n",
       "<table border=\"1\" class=\"dataframe\">\n",
       "  <thead>\n",
       "    <tr style=\"text-align: right;\">\n",
       "      <th></th>\n",
       "      <th>Beds</th>\n",
       "      <th>Baths</th>\n",
       "      <th>Area_in_sqft</th>\n",
       "      <th>Rent_per_sqft</th>\n",
       "      <th>Furnishing</th>\n",
       "      <th>Posted_date</th>\n",
       "      <th>Age_of_listing_in_days</th>\n",
       "      <th>Latitude</th>\n",
       "      <th>Longitude</th>\n",
       "      <th>Address</th>\n",
       "    </tr>\n",
       "  </thead>\n",
       "  <tbody>\n",
       "    <tr>\n",
       "      <th>0</th>\n",
       "      <td>1.250000</td>\n",
       "      <td>1.3</td>\n",
       "      <td>1.172376</td>\n",
       "      <td>1.248099</td>\n",
       "      <td>2.0</td>\n",
       "      <td>1.220736</td>\n",
       "      <td>1.179894</td>\n",
       "      <td>1.867214</td>\n",
       "      <td>1.849843</td>\n",
       "      <td>1.0</td>\n",
       "    </tr>\n",
       "    <tr>\n",
       "      <th>1</th>\n",
       "      <td>1.250000</td>\n",
       "      <td>1.3</td>\n",
       "      <td>1.135805</td>\n",
       "      <td>1.351617</td>\n",
       "      <td>2.0</td>\n",
       "      <td>1.224080</td>\n",
       "      <td>1.174603</td>\n",
       "      <td>1.867254</td>\n",
       "      <td>1.865180</td>\n",
       "      <td>1.0</td>\n",
       "    </tr>\n",
       "    <tr>\n",
       "      <th>2</th>\n",
       "      <td>1.166667</td>\n",
       "      <td>1.2</td>\n",
       "      <td>1.124924</td>\n",
       "      <td>1.269080</td>\n",
       "      <td>1.0</td>\n",
       "      <td>1.267559</td>\n",
       "      <td>1.105820</td>\n",
       "      <td>1.866501</td>\n",
       "      <td>1.864686</td>\n",
       "      <td>1.0</td>\n",
       "    </tr>\n",
       "    <tr>\n",
       "      <th>3</th>\n",
       "      <td>1.250000</td>\n",
       "      <td>1.3</td>\n",
       "      <td>1.379710</td>\n",
       "      <td>1.204453</td>\n",
       "      <td>2.0</td>\n",
       "      <td>1.180602</td>\n",
       "      <td>1.243386</td>\n",
       "      <td>1.867214</td>\n",
       "      <td>1.849843</td>\n",
       "      <td>1.0</td>\n",
       "    </tr>\n",
       "    <tr>\n",
       "      <th>4</th>\n",
       "      <td>1.416667</td>\n",
       "      <td>1.6</td>\n",
       "      <td>1.683659</td>\n",
       "      <td>1.182216</td>\n",
       "      <td>2.0</td>\n",
       "      <td>1.153846</td>\n",
       "      <td>1.285714</td>\n",
       "      <td>1.867254</td>\n",
       "      <td>1.865180</td>\n",
       "      <td>1.0</td>\n",
       "    </tr>\n",
       "    <tr>\n",
       "      <th>...</th>\n",
       "      <td>...</td>\n",
       "      <td>...</td>\n",
       "      <td>...</td>\n",
       "      <td>...</td>\n",
       "      <td>...</td>\n",
       "      <td>...</td>\n",
       "      <td>...</td>\n",
       "      <td>...</td>\n",
       "      <td>...</td>\n",
       "      <td>...</td>\n",
       "    </tr>\n",
       "    <tr>\n",
       "      <th>73729</th>\n",
       "      <td>1.000000</td>\n",
       "      <td>1.0</td>\n",
       "      <td>1.017630</td>\n",
       "      <td>1.143431</td>\n",
       "      <td>2.0</td>\n",
       "      <td>1.366614</td>\n",
       "      <td>1.650794</td>\n",
       "      <td>1.960268</td>\n",
       "      <td>1.939636</td>\n",
       "      <td>1.0</td>\n",
       "    </tr>\n",
       "    <tr>\n",
       "      <th>73734</th>\n",
       "      <td>1.083333</td>\n",
       "      <td>1.0</td>\n",
       "      <td>1.042918</td>\n",
       "      <td>1.178571</td>\n",
       "      <td>2.0</td>\n",
       "      <td>1.366614</td>\n",
       "      <td>1.693122</td>\n",
       "      <td>1.961948</td>\n",
       "      <td>1.939852</td>\n",
       "      <td>1.0</td>\n",
       "    </tr>\n",
       "    <tr>\n",
       "      <th>73735</th>\n",
       "      <td>1.166667</td>\n",
       "      <td>1.1</td>\n",
       "      <td>1.093290</td>\n",
       "      <td>1.078571</td>\n",
       "      <td>2.0</td>\n",
       "      <td>1.284281</td>\n",
       "      <td>1.079365</td>\n",
       "      <td>1.963483</td>\n",
       "      <td>1.941983</td>\n",
       "      <td>1.0</td>\n",
       "    </tr>\n",
       "    <tr>\n",
       "      <th>73737</th>\n",
       "      <td>1.000000</td>\n",
       "      <td>1.0</td>\n",
       "      <td>1.034757</td>\n",
       "      <td>1.119332</td>\n",
       "      <td>2.0</td>\n",
       "      <td>1.366614</td>\n",
       "      <td>1.624339</td>\n",
       "      <td>1.960268</td>\n",
       "      <td>1.939636</td>\n",
       "      <td>1.0</td>\n",
       "    </tr>\n",
       "    <tr>\n",
       "      <th>73738</th>\n",
       "      <td>1.000000</td>\n",
       "      <td>1.0</td>\n",
       "      <td>1.042918</td>\n",
       "      <td>1.100000</td>\n",
       "      <td>2.0</td>\n",
       "      <td>1.366614</td>\n",
       "      <td>1.624339</td>\n",
       "      <td>1.963483</td>\n",
       "      <td>1.941983</td>\n",
       "      <td>1.0</td>\n",
       "    </tr>\n",
       "  </tbody>\n",
       "</table>\n",
       "<p>73023 rows × 10 columns</p>\n",
       "</div>"
      ],
      "text/plain": [
       "           Beds  Baths  Area_in_sqft  Rent_per_sqft  Furnishing  Posted_date  \\\n",
       "0      1.250000    1.3      1.172376       1.248099         2.0     1.220736   \n",
       "1      1.250000    1.3      1.135805       1.351617         2.0     1.224080   \n",
       "2      1.166667    1.2      1.124924       1.269080         1.0     1.267559   \n",
       "3      1.250000    1.3      1.379710       1.204453         2.0     1.180602   \n",
       "4      1.416667    1.6      1.683659       1.182216         2.0     1.153846   \n",
       "...         ...    ...           ...            ...         ...          ...   \n",
       "73729  1.000000    1.0      1.017630       1.143431         2.0     1.366614   \n",
       "73734  1.083333    1.0      1.042918       1.178571         2.0     1.366614   \n",
       "73735  1.166667    1.1      1.093290       1.078571         2.0     1.284281   \n",
       "73737  1.000000    1.0      1.034757       1.119332         2.0     1.366614   \n",
       "73738  1.000000    1.0      1.042918       1.100000         2.0     1.366614   \n",
       "\n",
       "       Age_of_listing_in_days  Latitude  Longitude  Address  \n",
       "0                    1.179894  1.867214   1.849843      1.0  \n",
       "1                    1.174603  1.867254   1.865180      1.0  \n",
       "2                    1.105820  1.866501   1.864686      1.0  \n",
       "3                    1.243386  1.867214   1.849843      1.0  \n",
       "4                    1.285714  1.867254   1.865180      1.0  \n",
       "...                       ...       ...        ...      ...  \n",
       "73729                1.650794  1.960268   1.939636      1.0  \n",
       "73734                1.693122  1.961948   1.939852      1.0  \n",
       "73735                1.079365  1.963483   1.941983      1.0  \n",
       "73737                1.624339  1.960268   1.939636      1.0  \n",
       "73738                1.624339  1.963483   1.941983      1.0  \n",
       "\n",
       "[73023 rows x 10 columns]"
      ]
     },
     "execution_count": 91,
     "metadata": {},
     "output_type": "execute_result"
    }
   ],
   "source": [
    "data[colums_to_scaling]"
   ]
  },
  {
   "cell_type": "code",
   "execution_count": 92,
   "metadata": {
    "metadata": {}
   },
   "outputs": [
    {
     "data": {
      "text/html": [
       "<div>\n",
       "<style scoped>\n",
       "    .dataframe tbody tr th:only-of-type {\n",
       "        vertical-align: middle;\n",
       "    }\n",
       "\n",
       "    .dataframe tbody tr th {\n",
       "        vertical-align: top;\n",
       "    }\n",
       "\n",
       "    .dataframe thead th {\n",
       "        text-align: right;\n",
       "    }\n",
       "</style>\n",
       "<table border=\"1\" class=\"dataframe\">\n",
       "  <thead>\n",
       "    <tr style=\"text-align: right;\">\n",
       "      <th></th>\n",
       "      <th>Rent</th>\n",
       "      <th>Beds</th>\n",
       "      <th>Baths</th>\n",
       "      <th>Area_in_sqft</th>\n",
       "      <th>Rent_per_sqft</th>\n",
       "      <th>Rent_category</th>\n",
       "      <th>Frequency</th>\n",
       "      <th>Furnishing</th>\n",
       "      <th>Purpose</th>\n",
       "      <th>Posted_date</th>\n",
       "      <th>Age_of_listing_in_days</th>\n",
       "      <th>Latitude</th>\n",
       "      <th>Longitude</th>\n",
       "      <th>Address</th>\n",
       "      <th>Type</th>\n",
       "      <th>Location</th>\n",
       "      <th>City</th>\n",
       "    </tr>\n",
       "  </thead>\n",
       "  <tbody>\n",
       "    <tr>\n",
       "      <th>0</th>\n",
       "      <td>124000</td>\n",
       "      <td>1.250000</td>\n",
       "      <td>1.3</td>\n",
       "      <td>1.172376</td>\n",
       "      <td>1.248099</td>\n",
       "      <td>2</td>\n",
       "      <td>0</td>\n",
       "      <td>2.0</td>\n",
       "      <td>0</td>\n",
       "      <td>1.220736</td>\n",
       "      <td>1.179894</td>\n",
       "      <td>1.867214</td>\n",
       "      <td>1.849843</td>\n",
       "      <td>1.0</td>\n",
       "      <td>1.124855</td>\n",
       "      <td>1.542257</td>\n",
       "      <td>1.129055</td>\n",
       "    </tr>\n",
       "    <tr>\n",
       "      <th>1</th>\n",
       "      <td>140000</td>\n",
       "      <td>1.250000</td>\n",
       "      <td>1.3</td>\n",
       "      <td>1.135805</td>\n",
       "      <td>1.351617</td>\n",
       "      <td>2</td>\n",
       "      <td>0</td>\n",
       "      <td>2.0</td>\n",
       "      <td>0</td>\n",
       "      <td>1.224080</td>\n",
       "      <td>1.174603</td>\n",
       "      <td>1.867254</td>\n",
       "      <td>1.865180</td>\n",
       "      <td>1.0</td>\n",
       "      <td>1.124855</td>\n",
       "      <td>0.676570</td>\n",
       "      <td>1.129055</td>\n",
       "    </tr>\n",
       "    <tr>\n",
       "      <th>2</th>\n",
       "      <td>99000</td>\n",
       "      <td>1.166667</td>\n",
       "      <td>1.2</td>\n",
       "      <td>1.124924</td>\n",
       "      <td>1.269080</td>\n",
       "      <td>2</td>\n",
       "      <td>0</td>\n",
       "      <td>1.0</td>\n",
       "      <td>0</td>\n",
       "      <td>1.267559</td>\n",
       "      <td>1.105820</td>\n",
       "      <td>1.866501</td>\n",
       "      <td>1.864686</td>\n",
       "      <td>1.0</td>\n",
       "      <td>1.124855</td>\n",
       "      <td>1.183628</td>\n",
       "      <td>1.129055</td>\n",
       "    </tr>\n",
       "    <tr>\n",
       "      <th>3</th>\n",
       "      <td>220000</td>\n",
       "      <td>1.250000</td>\n",
       "      <td>1.3</td>\n",
       "      <td>1.379710</td>\n",
       "      <td>1.204453</td>\n",
       "      <td>0</td>\n",
       "      <td>0</td>\n",
       "      <td>2.0</td>\n",
       "      <td>0</td>\n",
       "      <td>1.180602</td>\n",
       "      <td>1.243386</td>\n",
       "      <td>1.867214</td>\n",
       "      <td>1.849843</td>\n",
       "      <td>1.0</td>\n",
       "      <td>0.345865</td>\n",
       "      <td>1.542257</td>\n",
       "      <td>1.129055</td>\n",
       "    </tr>\n",
       "    <tr>\n",
       "      <th>4</th>\n",
       "      <td>350000</td>\n",
       "      <td>1.416667</td>\n",
       "      <td>1.6</td>\n",
       "      <td>1.683659</td>\n",
       "      <td>1.182216</td>\n",
       "      <td>0</td>\n",
       "      <td>0</td>\n",
       "      <td>2.0</td>\n",
       "      <td>0</td>\n",
       "      <td>1.153846</td>\n",
       "      <td>1.285714</td>\n",
       "      <td>1.867254</td>\n",
       "      <td>1.865180</td>\n",
       "      <td>1.0</td>\n",
       "      <td>0.664384</td>\n",
       "      <td>0.676570</td>\n",
       "      <td>1.129055</td>\n",
       "    </tr>\n",
       "    <tr>\n",
       "      <th>...</th>\n",
       "      <td>...</td>\n",
       "      <td>...</td>\n",
       "      <td>...</td>\n",
       "      <td>...</td>\n",
       "      <td>...</td>\n",
       "      <td>...</td>\n",
       "      <td>...</td>\n",
       "      <td>...</td>\n",
       "      <td>...</td>\n",
       "      <td>...</td>\n",
       "      <td>...</td>\n",
       "      <td>...</td>\n",
       "      <td>...</td>\n",
       "      <td>...</td>\n",
       "      <td>...</td>\n",
       "      <td>...</td>\n",
       "      <td>...</td>\n",
       "    </tr>\n",
       "    <tr>\n",
       "      <th>73729</th>\n",
       "      <td>10000</td>\n",
       "      <td>1.000000</td>\n",
       "      <td>1.0</td>\n",
       "      <td>1.017630</td>\n",
       "      <td>1.143431</td>\n",
       "      <td>1</td>\n",
       "      <td>0</td>\n",
       "      <td>2.0</td>\n",
       "      <td>0</td>\n",
       "      <td>1.366614</td>\n",
       "      <td>1.650794</td>\n",
       "      <td>1.960268</td>\n",
       "      <td>1.939636</td>\n",
       "      <td>1.0</td>\n",
       "      <td>1.124855</td>\n",
       "      <td>1.061601</td>\n",
       "      <td>1.026556</td>\n",
       "    </tr>\n",
       "    <tr>\n",
       "      <th>73734</th>\n",
       "      <td>25000</td>\n",
       "      <td>1.083333</td>\n",
       "      <td>1.0</td>\n",
       "      <td>1.042918</td>\n",
       "      <td>1.178571</td>\n",
       "      <td>1</td>\n",
       "      <td>0</td>\n",
       "      <td>2.0</td>\n",
       "      <td>0</td>\n",
       "      <td>1.366614</td>\n",
       "      <td>1.693122</td>\n",
       "      <td>1.961948</td>\n",
       "      <td>1.939852</td>\n",
       "      <td>1.0</td>\n",
       "      <td>0.664384</td>\n",
       "      <td>1.036987</td>\n",
       "      <td>1.026556</td>\n",
       "    </tr>\n",
       "    <tr>\n",
       "      <th>73735</th>\n",
       "      <td>22000</td>\n",
       "      <td>1.166667</td>\n",
       "      <td>1.1</td>\n",
       "      <td>1.093290</td>\n",
       "      <td>1.078571</td>\n",
       "      <td>1</td>\n",
       "      <td>0</td>\n",
       "      <td>2.0</td>\n",
       "      <td>0</td>\n",
       "      <td>1.284281</td>\n",
       "      <td>1.079365</td>\n",
       "      <td>1.963483</td>\n",
       "      <td>1.941983</td>\n",
       "      <td>1.0</td>\n",
       "      <td>1.124855</td>\n",
       "      <td>1.048763</td>\n",
       "      <td>1.026556</td>\n",
       "    </tr>\n",
       "    <tr>\n",
       "      <th>73737</th>\n",
       "      <td>14000</td>\n",
       "      <td>1.000000</td>\n",
       "      <td>1.0</td>\n",
       "      <td>1.034757</td>\n",
       "      <td>1.119332</td>\n",
       "      <td>1</td>\n",
       "      <td>0</td>\n",
       "      <td>2.0</td>\n",
       "      <td>0</td>\n",
       "      <td>1.366614</td>\n",
       "      <td>1.624339</td>\n",
       "      <td>1.960268</td>\n",
       "      <td>1.939636</td>\n",
       "      <td>1.0</td>\n",
       "      <td>1.124855</td>\n",
       "      <td>1.061601</td>\n",
       "      <td>1.026556</td>\n",
       "    </tr>\n",
       "    <tr>\n",
       "      <th>73738</th>\n",
       "      <td>14000</td>\n",
       "      <td>1.000000</td>\n",
       "      <td>1.0</td>\n",
       "      <td>1.042918</td>\n",
       "      <td>1.100000</td>\n",
       "      <td>1</td>\n",
       "      <td>0</td>\n",
       "      <td>2.0</td>\n",
       "      <td>0</td>\n",
       "      <td>1.366614</td>\n",
       "      <td>1.624339</td>\n",
       "      <td>1.963483</td>\n",
       "      <td>1.941983</td>\n",
       "      <td>1.0</td>\n",
       "      <td>1.124855</td>\n",
       "      <td>1.048763</td>\n",
       "      <td>1.026556</td>\n",
       "    </tr>\n",
       "  </tbody>\n",
       "</table>\n",
       "<p>73023 rows × 17 columns</p>\n",
       "</div>"
      ],
      "text/plain": [
       "         Rent      Beds  Baths  Area_in_sqft  Rent_per_sqft  Rent_category  \\\n",
       "0      124000  1.250000    1.3      1.172376       1.248099              2   \n",
       "1      140000  1.250000    1.3      1.135805       1.351617              2   \n",
       "2       99000  1.166667    1.2      1.124924       1.269080              2   \n",
       "3      220000  1.250000    1.3      1.379710       1.204453              0   \n",
       "4      350000  1.416667    1.6      1.683659       1.182216              0   \n",
       "...       ...       ...    ...           ...            ...            ...   \n",
       "73729   10000  1.000000    1.0      1.017630       1.143431              1   \n",
       "73734   25000  1.083333    1.0      1.042918       1.178571              1   \n",
       "73735   22000  1.166667    1.1      1.093290       1.078571              1   \n",
       "73737   14000  1.000000    1.0      1.034757       1.119332              1   \n",
       "73738   14000  1.000000    1.0      1.042918       1.100000              1   \n",
       "\n",
       "       Frequency  Furnishing  Purpose  Posted_date  Age_of_listing_in_days  \\\n",
       "0              0         2.0        0     1.220736                1.179894   \n",
       "1              0         2.0        0     1.224080                1.174603   \n",
       "2              0         1.0        0     1.267559                1.105820   \n",
       "3              0         2.0        0     1.180602                1.243386   \n",
       "4              0         2.0        0     1.153846                1.285714   \n",
       "...          ...         ...      ...          ...                     ...   \n",
       "73729          0         2.0        0     1.366614                1.650794   \n",
       "73734          0         2.0        0     1.366614                1.693122   \n",
       "73735          0         2.0        0     1.284281                1.079365   \n",
       "73737          0         2.0        0     1.366614                1.624339   \n",
       "73738          0         2.0        0     1.366614                1.624339   \n",
       "\n",
       "       Latitude  Longitude  Address      Type  Location      City  \n",
       "0      1.867214   1.849843      1.0  1.124855  1.542257  1.129055  \n",
       "1      1.867254   1.865180      1.0  1.124855  0.676570  1.129055  \n",
       "2      1.866501   1.864686      1.0  1.124855  1.183628  1.129055  \n",
       "3      1.867214   1.849843      1.0  0.345865  1.542257  1.129055  \n",
       "4      1.867254   1.865180      1.0  0.664384  0.676570  1.129055  \n",
       "...         ...        ...      ...       ...       ...       ...  \n",
       "73729  1.960268   1.939636      1.0  1.124855  1.061601  1.026556  \n",
       "73734  1.961948   1.939852      1.0  0.664384  1.036987  1.026556  \n",
       "73735  1.963483   1.941983      1.0  1.124855  1.048763  1.026556  \n",
       "73737  1.960268   1.939636      1.0  1.124855  1.061601  1.026556  \n",
       "73738  1.963483   1.941983      1.0  1.124855  1.048763  1.026556  \n",
       "\n",
       "[73023 rows x 17 columns]"
      ]
     },
     "execution_count": 92,
     "metadata": {},
     "output_type": "execute_result"
    }
   ],
   "source": [
    "data"
   ]
  }
 ],
 "metadata": {
  "kernelspec": {
   "display_name": "Python 3",
   "language": "python",
   "name": "python3"
  },
  "language_info": {
   "codemirror_mode": {
    "name": "ipython",
    "version": 3
   },
   "file_extension": ".py",
   "mimetype": "text/x-python",
   "name": "python",
   "nbconvert_exporter": "python",
   "pygments_lexer": "ipython3",
   "version": "3.10.0"
  }
 },
 "nbformat": 4,
 "nbformat_minor": 2
}
